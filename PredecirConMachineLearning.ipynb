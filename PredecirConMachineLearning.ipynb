{
  "nbformat": 4,
  "nbformat_minor": 0,
  "metadata": {
    "colab": {
      "name": "PredecirConMachineLearning.ipynb",
      "provenance": [],
      "authorship_tag": "ABX9TyPRpWGuWQ0GoamjyNso22aW",
      "include_colab_link": true
    },
    "kernelspec": {
      "name": "python3",
      "display_name": "Python 3"
    },
    "language_info": {
      "name": "python"
    }
  },
  "cells": [
    {
      "cell_type": "markdown",
      "metadata": {
        "id": "view-in-github",
        "colab_type": "text"
      },
      "source": [
        "<a href=\"https://colab.research.google.com/github/MEugeniaLuna/EncuestaSueldosSysarmy/blob/main/PredecirConMachineLearning.ipynb\" target=\"_parent\"><img src=\"https://colab.research.google.com/assets/colab-badge.svg\" alt=\"Open In Colab\"/></a>"
      ]
    },
    {
      "cell_type": "markdown",
      "source": [
        "# **PREDECIR CON MACHINE LEARNING**\n",
        "\n",
        "* Aprendizaje Supervisado: tenemos un objetivo o un target, conocemos la variable que queremos predecir.\n",
        "\n",
        "* Aprendizaje no supervisado: tenemos datos pero no tenemos objetivos/targets definidos a donde querramos llegar. Se busca ganar valor por información \"escondida\" en los datos.\n",
        "\n",
        "* Aprendizaje por refuerzo: tiene en cuenta el estado del sistema donde está envuelto el algoritmo y recibe recompensa si sugiere una acción correcta o no. \n",
        "\n",
        "\n",
        "\n"
      ],
      "metadata": {
        "id": "y02PD-i1h9mH"
      }
    },
    {
      "cell_type": "code",
      "source": [
        "import pandas as pd\n",
        "import numpy as np \n",
        "import seaborn as sns # visualizacion\n",
        "import plotly.express as px  #graficos\n",
        "import matplotlib.pyplot as plt #graficos"
      ],
      "metadata": {
        "id": "k_y8XFxMh3pR"
      },
      "execution_count": null,
      "outputs": []
    },
    {
      "cell_type": "code",
      "execution_count": null,
      "metadata": {
        "colab": {
          "base_uri": "https://localhost:8080/",
          "height": 294
        },
        "id": "gy-3u2pBhyjn",
        "outputId": "7d2b5a6d-f2cf-4716-ad2a-72e3881425b2"
      },
      "outputs": [
        {
          "output_type": "execute_result",
          "data": {
            "text/html": [
              "\n",
              "  <div id=\"df-7d1cf2af-3b6b-45e6-97d6-072c6416a110\">\n",
              "    <div class=\"colab-df-container\">\n",
              "      <div>\n",
              "<style scoped>\n",
              "    .dataframe tbody tr th:only-of-type {\n",
              "        vertical-align: middle;\n",
              "    }\n",
              "\n",
              "    .dataframe tbody tr th {\n",
              "        vertical-align: top;\n",
              "    }\n",
              "\n",
              "    .dataframe thead th {\n",
              "        text-align: right;\n",
              "    }\n",
              "</style>\n",
              "<table border=\"1\" class=\"dataframe\">\n",
              "  <thead>\n",
              "    <tr style=\"text-align: right;\">\n",
              "      <th></th>\n",
              "      <th>perfil_genero</th>\n",
              "      <th>perfil_edad</th>\n",
              "      <th>trabajo_pais</th>\n",
              "      <th>trabajo_provincia</th>\n",
              "      <th>perfil_anos_experiencia</th>\n",
              "      <th>trabajo_anios_empresa_actual</th>\n",
              "      <th>trabajo_anios_puesto_actual</th>\n",
              "      <th>trabajo_personas_a_cargo</th>\n",
              "      <th>perfil_nivel_estudios</th>\n",
              "      <th>perfil_estado_estudios</th>\n",
              "      <th>perfil_carrera</th>\n",
              "      <th>perfil_universidad</th>\n",
              "      <th>perfil_cursos_especializacion</th>\n",
              "      <th>perfil_contribuciones_open_source</th>\n",
              "      <th>perfil_programa_como_hobbie</th>\n",
              "      <th>trabajo_rol</th>\n",
              "      <th>herramientas_plataforma</th>\n",
              "      <th>herramientas_languagjs_programacion</th>\n",
              "      <th>herramientas_frameworks</th>\n",
              "      <th>herramientas_data_bases</th>\n",
              "      <th>herramientas_qa_testing</th>\n",
              "      <th>herramientas_IDEs</th>\n",
              "      <th>herramientas_sistema_operativo_pc</th>\n",
              "      <th>herramientas_sistema_operativo_cel</th>\n",
              "      <th>trabajo_guardias</th>\n",
              "      <th>salario_guardias_pago</th>\n",
              "      <th>trabajo_guardias_tipo_pago</th>\n",
              "      <th>trabajo_tipo_contrato</th>\n",
              "      <th>salario_mensual_BRUTO</th>\n",
              "      <th>salario_mensual_NETO</th>\n",
              "      <th>salario_salario_dolares</th>\n",
              "      <th>salario_conformidad_sueldo</th>\n",
              "      <th>salario_comparacion_sueldo_semestre_anterior</th>\n",
              "      <th>salario_bonos</th>\n",
              "      <th>salario_bono_atado_a</th>\n",
              "      <th>salario_ajustes_inflacion_2020</th>\n",
              "      <th>salario_porcentaje_inflacion_ajuste_2020</th>\n",
              "      <th>salario_mes_ultimo_ajuste_inflacion</th>\n",
              "      <th>trabajo_violencia_laboral</th>\n",
              "      <th>perfil_orientacion_sexual</th>\n",
              "      <th>perfil_discapacidad</th>\n",
              "      <th>perfil_dificultad_ser_contratada_discapacidad</th>\n",
              "      <th>compania_cantidad_empleadxs</th>\n",
              "      <th>compania_actividad_princiapl</th>\n",
              "      <th>compania_recomendacion_lugar_trabajo</th>\n",
              "      <th>compania_politicas_inclusion</th>\n",
              "      <th>compania_beneficios_extra</th>\n",
              "      <th>compania_mejor_compania_ciudad</th>\n",
              "    </tr>\n",
              "  </thead>\n",
              "  <tbody>\n",
              "    <tr>\n",
              "      <th>0</th>\n",
              "      <td>Mujer</td>\n",
              "      <td>26</td>\n",
              "      <td>Argentina</td>\n",
              "      <td>Ciudad Autónoma de Buenos Aires</td>\n",
              "      <td>3.0</td>\n",
              "      <td>3.0</td>\n",
              "      <td>3.0</td>\n",
              "      <td>0</td>\n",
              "      <td>Universitario</td>\n",
              "      <td>En curso</td>\n",
              "      <td>Ingeniería en Sistemas de Información</td>\n",
              "      <td>UTN - Universidad Tecnológica Nacional</td>\n",
              "      <td>Sí, los pagó un empleador</td>\n",
              "      <td>No</td>\n",
              "      <td>Sí</td>\n",
              "      <td>Consultant</td>\n",
              "      <td>Ninguna</td>\n",
              "      <td>Ninguno</td>\n",
              "      <td>Ninguno</td>\n",
              "      <td>Ninguna</td>\n",
              "      <td>Ninguna</td>\n",
              "      <td>Ninguno</td>\n",
              "      <td>GNU/Linux</td>\n",
              "      <td>Android</td>\n",
              "      <td>No</td>\n",
              "      <td>0.0</td>\n",
              "      <td>Bruto</td>\n",
              "      <td>Full-Time</td>\n",
              "      <td>53000.0</td>\n",
              "      <td>43000.0</td>\n",
              "      <td>NaN</td>\n",
              "      <td>1</td>\n",
              "      <td>1</td>\n",
              "      <td>No</td>\n",
              "      <td>No recibo bono</td>\n",
              "      <td>No</td>\n",
              "      <td>0.0</td>\n",
              "      <td>0</td>\n",
              "      <td>En mi trabajo actual</td>\n",
              "      <td>Homosexual</td>\n",
              "      <td>NaN</td>\n",
              "      <td>NaN</td>\n",
              "      <td>501-1000</td>\n",
              "      <td>Servicios / Consultoría de Software / Digital</td>\n",
              "      <td>7</td>\n",
              "      <td>2</td>\n",
              "      <td>Capacitaciones y/o cursos, Comidas pagas / sub...</td>\n",
              "      <td>NaN</td>\n",
              "    </tr>\n",
              "    <tr>\n",
              "      <th>1</th>\n",
              "      <td>Hombre</td>\n",
              "      <td>29</td>\n",
              "      <td>Argentina</td>\n",
              "      <td>Corrientes</td>\n",
              "      <td>5.0</td>\n",
              "      <td>2.0</td>\n",
              "      <td>2.0</td>\n",
              "      <td>4</td>\n",
              "      <td>Universitario</td>\n",
              "      <td>En curso</td>\n",
              "      <td>Ingeniería en Sistemas de Información</td>\n",
              "      <td>UTN - Universidad Tecnológica Nacional</td>\n",
              "      <td>Sí, de forma particular, Sí, los pagó un emple...</td>\n",
              "      <td>No</td>\n",
              "      <td>Sí</td>\n",
              "      <td>Developer</td>\n",
              "      <td>Docker, Google Cloud Platform/App Engine</td>\n",
              "      <td>HTML, Javascript, Python</td>\n",
              "      <td>Django, jQuery</td>\n",
              "      <td>Informix, MySQL, PostgreSQL</td>\n",
              "      <td>Ninguna</td>\n",
              "      <td>IPython / Jupyter, Sublime Text, Visual Studio...</td>\n",
              "      <td>GNU/Linux</td>\n",
              "      <td>Android</td>\n",
              "      <td>No</td>\n",
              "      <td>0.0</td>\n",
              "      <td>Bruto</td>\n",
              "      <td>Full-Time</td>\n",
              "      <td>79000.0</td>\n",
              "      <td>63000.0</td>\n",
              "      <td>NaN</td>\n",
              "      <td>2</td>\n",
              "      <td>2</td>\n",
              "      <td>Menos de un sueldo</td>\n",
              "      <td>Performance de la compañía</td>\n",
              "      <td>Uno</td>\n",
              "      <td>10.0</td>\n",
              "      <td>1</td>\n",
              "      <td>Jamás</td>\n",
              "      <td>Heterosexual</td>\n",
              "      <td>Visual</td>\n",
              "      <td>No</td>\n",
              "      <td>201-500</td>\n",
              "      <td>Otras industrias</td>\n",
              "      <td>8</td>\n",
              "      <td>9</td>\n",
              "      <td>Horarios flexibles, Stock options / RSUs, Viát...</td>\n",
              "      <td>NaN</td>\n",
              "    </tr>\n",
              "    <tr>\n",
              "      <th>2</th>\n",
              "      <td>Mujer</td>\n",
              "      <td>22</td>\n",
              "      <td>Argentina</td>\n",
              "      <td>Ciudad Autónoma de Buenos Aires</td>\n",
              "      <td>2.0</td>\n",
              "      <td>0.0</td>\n",
              "      <td>0.0</td>\n",
              "      <td>0</td>\n",
              "      <td>Secundario</td>\n",
              "      <td>Completado</td>\n",
              "      <td>NaN</td>\n",
              "      <td>NaN</td>\n",
              "      <td>Sí, de forma particular, Sí, los pagó un emple...</td>\n",
              "      <td>No</td>\n",
              "      <td>Sí</td>\n",
              "      <td>Infosec</td>\n",
              "      <td>Linux, VMWare</td>\n",
              "      <td>Ninguno</td>\n",
              "      <td>Ninguno</td>\n",
              "      <td>Ninguna</td>\n",
              "      <td>Ninguna</td>\n",
              "      <td>Ninguno</td>\n",
              "      <td>Windows</td>\n",
              "      <td>iOS</td>\n",
              "      <td>No</td>\n",
              "      <td>0.0</td>\n",
              "      <td>Porcentaje de mi sueldo</td>\n",
              "      <td>Full-Time</td>\n",
              "      <td>160000.0</td>\n",
              "      <td>127000.0</td>\n",
              "      <td>NaN</td>\n",
              "      <td>3</td>\n",
              "      <td>3</td>\n",
              "      <td>Un sueldo</td>\n",
              "      <td>Performance individual</td>\n",
              "      <td>No</td>\n",
              "      <td>0.0</td>\n",
              "      <td>0</td>\n",
              "      <td>En un trabajo anterior</td>\n",
              "      <td>Bisexual o queer</td>\n",
              "      <td>NaN</td>\n",
              "      <td>No</td>\n",
              "      <td>2001-5000</td>\n",
              "      <td>Otras industrias</td>\n",
              "      <td>6</td>\n",
              "      <td>9</td>\n",
              "      <td>Clases de gimnasia online, Comidas pagas / sub...</td>\n",
              "      <td>NaN</td>\n",
              "    </tr>\n",
              "  </tbody>\n",
              "</table>\n",
              "</div>\n",
              "      <button class=\"colab-df-convert\" onclick=\"convertToInteractive('df-7d1cf2af-3b6b-45e6-97d6-072c6416a110')\"\n",
              "              title=\"Convert this dataframe to an interactive table.\"\n",
              "              style=\"display:none;\">\n",
              "        \n",
              "  <svg xmlns=\"http://www.w3.org/2000/svg\" height=\"24px\"viewBox=\"0 0 24 24\"\n",
              "       width=\"24px\">\n",
              "    <path d=\"M0 0h24v24H0V0z\" fill=\"none\"/>\n",
              "    <path d=\"M18.56 5.44l.94 2.06.94-2.06 2.06-.94-2.06-.94-.94-2.06-.94 2.06-2.06.94zm-11 1L8.5 8.5l.94-2.06 2.06-.94-2.06-.94L8.5 2.5l-.94 2.06-2.06.94zm10 10l.94 2.06.94-2.06 2.06-.94-2.06-.94-.94-2.06-.94 2.06-2.06.94z\"/><path d=\"M17.41 7.96l-1.37-1.37c-.4-.4-.92-.59-1.43-.59-.52 0-1.04.2-1.43.59L10.3 9.45l-7.72 7.72c-.78.78-.78 2.05 0 2.83L4 21.41c.39.39.9.59 1.41.59.51 0 1.02-.2 1.41-.59l7.78-7.78 2.81-2.81c.8-.78.8-2.07 0-2.86zM5.41 20L4 18.59l7.72-7.72 1.47 1.35L5.41 20z\"/>\n",
              "  </svg>\n",
              "      </button>\n",
              "      \n",
              "  <style>\n",
              "    .colab-df-container {\n",
              "      display:flex;\n",
              "      flex-wrap:wrap;\n",
              "      gap: 12px;\n",
              "    }\n",
              "\n",
              "    .colab-df-convert {\n",
              "      background-color: #E8F0FE;\n",
              "      border: none;\n",
              "      border-radius: 50%;\n",
              "      cursor: pointer;\n",
              "      display: none;\n",
              "      fill: #1967D2;\n",
              "      height: 32px;\n",
              "      padding: 0 0 0 0;\n",
              "      width: 32px;\n",
              "    }\n",
              "\n",
              "    .colab-df-convert:hover {\n",
              "      background-color: #E2EBFA;\n",
              "      box-shadow: 0px 1px 2px rgba(60, 64, 67, 0.3), 0px 1px 3px 1px rgba(60, 64, 67, 0.15);\n",
              "      fill: #174EA6;\n",
              "    }\n",
              "\n",
              "    [theme=dark] .colab-df-convert {\n",
              "      background-color: #3B4455;\n",
              "      fill: #D2E3FC;\n",
              "    }\n",
              "\n",
              "    [theme=dark] .colab-df-convert:hover {\n",
              "      background-color: #434B5C;\n",
              "      box-shadow: 0px 1px 3px 1px rgba(0, 0, 0, 0.15);\n",
              "      filter: drop-shadow(0px 1px 2px rgba(0, 0, 0, 0.3));\n",
              "      fill: #FFFFFF;\n",
              "    }\n",
              "  </style>\n",
              "\n",
              "      <script>\n",
              "        const buttonEl =\n",
              "          document.querySelector('#df-7d1cf2af-3b6b-45e6-97d6-072c6416a110 button.colab-df-convert');\n",
              "        buttonEl.style.display =\n",
              "          google.colab.kernel.accessAllowed ? 'block' : 'none';\n",
              "\n",
              "        async function convertToInteractive(key) {\n",
              "          const element = document.querySelector('#df-7d1cf2af-3b6b-45e6-97d6-072c6416a110');\n",
              "          const dataTable =\n",
              "            await google.colab.kernel.invokeFunction('convertToInteractive',\n",
              "                                                     [key], {});\n",
              "          if (!dataTable) return;\n",
              "\n",
              "          const docLinkHtml = 'Like what you see? Visit the ' +\n",
              "            '<a target=\"_blank\" href=https://colab.research.google.com/notebooks/data_table.ipynb>data table notebook</a>'\n",
              "            + ' to learn more about interactive tables.';\n",
              "          element.innerHTML = '';\n",
              "          dataTable['output_type'] = 'display_data';\n",
              "          await google.colab.output.renderOutput(dataTable, element);\n",
              "          const docLink = document.createElement('div');\n",
              "          docLink.innerHTML = docLinkHtml;\n",
              "          element.appendChild(docLink);\n",
              "        }\n",
              "      </script>\n",
              "    </div>\n",
              "  </div>\n",
              "  "
            ],
            "text/plain": [
              "  perfil_genero  ...  compania_mejor_compania_ciudad\n",
              "0         Mujer  ...                             NaN\n",
              "1        Hombre  ...                             NaN\n",
              "2         Mujer  ...                             NaN\n",
              "\n",
              "[3 rows x 48 columns]"
            ]
          },
          "metadata": {},
          "execution_count": 3
        }
      ],
      "source": [
        "url = 'https://raw.githubusercontent.com/yaninaiberra/metcampDataScience2021/main/Encuentro2/Dataset/sysarmy_2020_renamed.csv'\n",
        "df = pd.read_csv(url, index_col=0)\n",
        "df[:3] # Es otra manera de ver las primeras filas, similar a .head()"
      ]
    },
    {
      "cell_type": "markdown",
      "source": [
        "# **Creación del target**\n",
        "\n",
        "Recordemos que el TARGET es nuestra variable a predecir. En este caso vamos a CONSTRUIR nuestro propio target para poder practicar machine learning."
      ],
      "metadata": {
        "id": "ZB0r1z-nmZK9"
      }
    },
    {
      "cell_type": "code",
      "source": [
        "#veamos como se distribuye el campo perfil_anos_experiencia\n",
        "df['perfil_anos_experiencia'].hist();"
      ],
      "metadata": {
        "colab": {
          "base_uri": "https://localhost:8080/",
          "height": 265
        },
        "id": "x7jqJ4tRzbDD",
        "outputId": "7cf63b7d-0277-4e11-88b9-dc735976d5fc"
      },
      "execution_count": null,
      "outputs": [
        {
          "output_type": "display_data",
          "data": {
            "image/png": "[encoded data removed]",
            "text/plain": [
              "<Figure size 432x288 with 1 Axes>"
            ]
          },
          "metadata": {
            "needs_background": "light"
          }
        }
      ]
    },
    {
      "cell_type": "markdown",
      "source": [
        "Vamos a crear un problema para predecir si una persona tiene más o menos de 2 años de experiencia, según todas las otras variables"
      ],
      "metadata": {
        "id": "-aRz6Xyrzstb"
      }
    },
    {
      "cell_type": "code",
      "source": [
        "#Creamos un target\n",
        "\n",
        "#personas que tengan menos de dos años de experiencia\n",
        "df.loc[df['perfil_anos_experiencia']<= 2, 'experiencia_menor2'] = 1\n",
        "\n",
        "#personas que tengan más de dos años de experiencia\n",
        "df.loc[df['perfil_anos_experiencia']> 2, 'experiencia_menor2'] = 0"
      ],
      "metadata": {
        "id": "ylXEJ6xVzp-N"
      },
      "execution_count": null,
      "outputs": []
    },
    {
      "cell_type": "code",
      "source": [
        "#para visualizar nuestra nuesva variable target\n",
        "df['experiencia_menor2']"
      ],
      "metadata": {
        "colab": {
          "base_uri": "https://localhost:8080/"
        },
        "id": "iLj10oxs0w00",
        "outputId": "a8ddde5d-9ee9-4a32-b312-f08695136018"
      },
      "execution_count": null,
      "outputs": [
        {
          "output_type": "execute_result",
          "data": {
            "text/plain": [
              "0       0.0\n",
              "1       0.0\n",
              "2       1.0\n",
              "3       0.0\n",
              "4       0.0\n",
              "       ... \n",
              "6090    0.0\n",
              "6091    0.0\n",
              "6092    1.0\n",
              "6093    0.0\n",
              "6094    0.0\n",
              "Name: experiencia_menor2, Length: 6095, dtype: float64"
            ]
          },
          "metadata": {},
          "execution_count": 6
        }
      ]
    },
    {
      "cell_type": "markdown",
      "source": [
        "Ahora vamos a suponer que nuestro dataset se constituye por todas las variables que venimos trabajando pero ahora reemplazamos perfil_anos_experiencia por experiencia_menor2.\n",
        "\n",
        "Y nos vamos a hacer la pregunta:\n",
        "\n",
        "# **¿Podemos predecir qué personas tienen menos de 2 años de experiencia laboral?**"
      ],
      "metadata": {
        "id": "WkGVCCos1FAM"
      }
    },
    {
      "cell_type": "markdown",
      "source": [
        "Primero vamos a ver cómo se distrubuye la variable presentada como target"
      ],
      "metadata": {
        "id": "sf4_L6-_1WGp"
      }
    },
    {
      "cell_type": "code",
      "source": [
        "#distribución del target\n",
        "df['experiencia_menor2'].value_counts()"
      ],
      "metadata": {
        "colab": {
          "base_uri": "https://localhost:8080/"
        },
        "id": "QfEvV00b1JSY",
        "outputId": "f1998ad3-711b-492b-8ad5-d3bf8a93a545"
      },
      "execution_count": null,
      "outputs": [
        {
          "output_type": "execute_result",
          "data": {
            "text/plain": [
              "0.0    4936\n",
              "1.0    1159\n",
              "Name: experiencia_menor2, dtype: int64"
            ]
          },
          "metadata": {},
          "execution_count": 7
        }
      ]
    },
    {
      "cell_type": "markdown",
      "metadata": {
        "id": "Au8Lgfhdj_cR"
      },
      "source": [
        "## Selección de variables\n",
        "\n",
        "\n",
        "\n",
        "\n",
        "\n"
      ]
    },
    {
      "cell_type": "markdown",
      "metadata": {
        "id": "dq4fuoufJK9P"
      },
      "source": [
        "<center>\n",
        "<img src=\"https://encrypted-tbn0.gstatic.com/images?q=tbn:ANd9GcSJa9pmi6qErrLgApyoFiMdi1oAqdmv-19Q9y0vGlTC358fYKzGeUckSQ2opBCPwU2NJPkm3o2YTWXgvw&usqp=CAU\" height=\"170\" />\n",
        "</center>"
      ]
    },
    {
      "cell_type": "markdown",
      "metadata": {
        "id": "JDGXxM8qAWnb"
      },
      "source": [
        "El primer paso en cualquier problema de clasificación es:\n",
        "- Pensar que variables pueden tener relación con nuestra variable a predecir. \n",
        "\n",
        "Es clave que hayan patrones entre nuestras variables seleccionadas y el target. Sin patrones el modelo no podrá aprender. "
      ]
    },
    {
      "cell_type": "code",
      "source": [
        "df.columns"
      ],
      "metadata": {
        "colab": {
          "base_uri": "https://localhost:8080/"
        },
        "id": "HSsEWmPx2Ato",
        "outputId": "cd165dde-c369-4205-9677-18678ce0fdfa"
      },
      "execution_count": null,
      "outputs": [
        {
          "output_type": "execute_result",
          "data": {
            "text/plain": [
              "Index(['perfil_genero', 'perfil_edad', 'trabajo_pais', 'trabajo_provincia',\n",
              "       'perfil_anos_experiencia', 'trabajo_anios_empresa_actual',\n",
              "       'trabajo_anios_puesto_actual', 'trabajo_personas_a_cargo',\n",
              "       'perfil_nivel_estudios', 'perfil_estado_estudios', 'perfil_carrera',\n",
              "       'perfil_universidad', 'perfil_cursos_especializacion',\n",
              "       'perfil_contribuciones_open_source', 'perfil_programa_como_hobbie',\n",
              "       'trabajo_rol', 'herramientas_plataforma',\n",
              "       'herramientas_languagjs_programacion', 'herramientas_frameworks',\n",
              "       'herramientas_data_bases', 'herramientas_qa_testing',\n",
              "       'herramientas_IDEs', 'herramientas_sistema_operativo_pc',\n",
              "       'herramientas_sistema_operativo_cel', 'trabajo_guardias ',\n",
              "       'salario_guardias_pago', 'trabajo_guardias_tipo_pago ',\n",
              "       'trabajo_tipo_contrato', 'salario_mensual_BRUTO',\n",
              "       'salario_mensual_NETO', 'salario_salario_dolares',\n",
              "       'salario_conformidad_sueldo',\n",
              "       'salario_comparacion_sueldo_semestre_anterior ', 'salario_bonos',\n",
              "       'salario_bono_atado_a ', 'salario_ajustes_inflacion_2020 ',\n",
              "       'salario_porcentaje_inflacion_ajuste_2020',\n",
              "       'salario_mes_ultimo_ajuste_inflacion ', 'trabajo_violencia_laboral',\n",
              "       'perfil_orientacion_sexual', 'perfil_discapacidad',\n",
              "       'perfil_dificultad_ser_contratada_discapacidad',\n",
              "       'compania_cantidad_empleadxs', 'compania_actividad_princiapl',\n",
              "       'compania_recomendacion_lugar_trabajo', 'compania_politicas_inclusion',\n",
              "       'compania_beneficios_extra', 'compania_mejor_compania_ciudad',\n",
              "       'experiencia_menor2'],\n",
              "      dtype='object')"
            ]
          },
          "metadata": {},
          "execution_count": 8
        }
      ]
    },
    {
      "cell_type": "code",
      "source": [
        "df.trabajo_pais.unique()"
      ],
      "metadata": {
        "colab": {
          "base_uri": "https://localhost:8080/"
        },
        "id": "WuK9jR2x244q",
        "outputId": "5687efbc-2ce2-46ed-f6d0-52844a8ff7b3"
      },
      "execution_count": null,
      "outputs": [
        {
          "output_type": "execute_result",
          "data": {
            "text/plain": [
              "array(['Argentina'], dtype=object)"
            ]
          },
          "metadata": {},
          "execution_count": 9
        }
      ]
    },
    {
      "cell_type": "markdown",
      "source": [
        "Por ejemplo, al analizar la variable trabajo_pais, notamos que todas las instancias son iguales (Argentina), por lo tanto esta variable puede ser eliminada, ya que no represeta diferencia entre nuestro target (personas con menos de dos años de experiencia) y el resto"
      ],
      "metadata": {
        "id": "1_4_MTrj3EM7"
      }
    },
    {
      "cell_type": "code",
      "source": [
        "df = df.drop('trabajo_pais',axis=1)"
      ],
      "metadata": {
        "id": "W0j5oXve3hl_"
      },
      "execution_count": null,
      "outputs": []
    },
    {
      "cell_type": "markdown",
      "metadata": {
        "id": "3H8M-5k7HJgg"
      },
      "source": [
        "Eliminamos las columnas que creemos NO estarán relacionadas a nuestro target"
      ]
    },
    {
      "cell_type": "code",
      "source": [
        "df = df.drop(['perfil_contribuciones_open_source', 'perfil_programa_como_hobbie',\n",
        "       'trabajo_rol', 'herramientas_plataforma', 'perfil_cursos_especializacion',\n",
        "        'herramientas_languagjs_programacion', 'herramientas_frameworks',\n",
        "       'herramientas_data_bases', 'herramientas_qa_testing',\n",
        "       'herramientas_IDEs', 'herramientas_sistema_operativo_pc',\n",
        "       'herramientas_sistema_operativo_cel', \n",
        "       'trabajo_guardias_tipo_pago ',\n",
        "       'salario_conformidad_sueldo',\n",
        "       'salario_comparacion_sueldo_semestre_anterior ', 'salario_bonos',\n",
        "       'salario_bono_atado_a ', 'salario_ajustes_inflacion_2020 ',\n",
        "       'salario_porcentaje_inflacion_ajuste_2020',\n",
        "       'salario_mes_ultimo_ajuste_inflacion ', 'trabajo_violencia_laboral',\n",
        "       'perfil_orientacion_sexual', 'perfil_discapacidad',\n",
        "       'perfil_dificultad_ser_contratada_discapacidad', 'perfil_carrera', 'perfil_universidad',\n",
        "       'compania_cantidad_empleadxs', 'compania_actividad_princiapl',\n",
        "       'compania_recomendacion_lugar_trabajo', 'compania_politicas_inclusion',\n",
        "       'compania_beneficios_extra', 'compania_mejor_compania_ciudad',\n",
        "       'trabajo_guardias ','salario_mensual_NETO'\n",
        "      ], axis=1)"
      ],
      "metadata": {
        "id": "O9AqEAJD3xxT"
      },
      "execution_count": null,
      "outputs": []
    },
    {
      "cell_type": "code",
      "source": [
        "#Vemos cómo quedó nuestro dataset luego de eliminar las columnas que considerantes no son relevantes\n",
        "df.columns"
      ],
      "metadata": {
        "colab": {
          "base_uri": "https://localhost:8080/"
        },
        "id": "Qq2u3a4132GB",
        "outputId": "61179b3b-9a2d-4467-9b3a-d0d62952cd5c"
      },
      "execution_count": null,
      "outputs": [
        {
          "output_type": "execute_result",
          "data": {
            "text/plain": [
              "Index(['perfil_genero', 'perfil_edad', 'trabajo_provincia',\n",
              "       'perfil_anos_experiencia', 'trabajo_anios_empresa_actual',\n",
              "       'trabajo_anios_puesto_actual', 'trabajo_personas_a_cargo',\n",
              "       'perfil_nivel_estudios', 'perfil_estado_estudios',\n",
              "       'salario_guardias_pago', 'trabajo_tipo_contrato',\n",
              "       'salario_mensual_BRUTO', 'salario_salario_dolares',\n",
              "       'experiencia_menor2'],\n",
              "      dtype='object')"
            ]
          },
          "metadata": {},
          "execution_count": 12
        }
      ]
    },
    {
      "cell_type": "markdown",
      "source": [
        "# **Preprocesar columnas**\n",
        "\n",
        "Codificación de variables categóricas: todas nuestras variables que tenemos en categorías o string las deberíamos pasar a un número para que pueda ser interpretada por nuestro algoritmo."
      ],
      "metadata": {
        "id": "GHPnJEf85GaV"
      }
    },
    {
      "cell_type": "markdown",
      "source": [
        "**One Hot Encoding**\n",
        "\n",
        "Para cada categoría va a crear una columna y le va a asignar un 1 si esta fila pertenece a esta categoría y un 0 sino. "
      ],
      "metadata": {
        "id": "JPAlA-od5dWo"
      }
    },
    {
      "cell_type": "markdown",
      "source": [
        "![image.png](data:image/png;base64,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)"
      ],
      "metadata": {
        "id": "lkZdKKE35waD"
      }
    },
    {
      "cell_type": "code",
      "source": [
        "#importamos sklearn, una librería muy importante para predecir\n",
        "from sklearn.preprocessing import OneHotEncoder"
      ],
      "metadata": {
        "id": "7i8W2e1M5-rB"
      },
      "execution_count": null,
      "outputs": []
    },
    {
      "cell_type": "code",
      "metadata": {
        "id": "qmEw5aihtNTb"
      },
      "source": [
        "#creamos un objeto del tipo OneHotEncoder\n",
        "onehot_encoder  = OneHotEncoder()   #metodo que pasa de una columna a muchas con 0 y 1"
      ],
      "execution_count": null,
      "outputs": []
    },
    {
      "cell_type": "code",
      "metadata": {
        "colab": {
          "base_uri": "https://localhost:8080/"
        },
        "id": "H8MqTELOEMjQ",
        "outputId": "a62aa9e6-bbaa-4f7a-ff61-8b9fb59c1ed3"
      },
      "source": [
        "#veamos los valores unicos para la variable tipo de contrato\n",
        "df['trabajo_tipo_contrato'].unique()"
      ],
      "execution_count": null,
      "outputs": [
        {
          "output_type": "execute_result",
          "data": {
            "text/plain": [
              "array(['Full-Time', 'Freelance', 'Part-Time',\n",
              "       'Tercerizado (trabajo a través de consultora o agencia)',\n",
              "       'Remoto (empresa de otro país)'], dtype=object)"
            ]
          },
          "metadata": {},
          "execution_count": 15
        }
      ]
    },
    {
      "cell_type": "code",
      "source": [
        "#Usamos el método fit_transform para codificar la columna trabajo_tipo_contrato del dataset\n",
        "tipo_trabajo_codigo = onehot_encoder.fit_transform(df[['trabajo_tipo_contrato']]).toarray() #toarray es para que lo muestre como matriz"
      ],
      "metadata": {
        "id": "5VZ7Ae8O6h4d"
      },
      "execution_count": null,
      "outputs": []
    },
    {
      "cell_type": "code",
      "source": [
        "onehot_encoder.fit_transform(df[['trabajo_tipo_contrato']]).toarray()"
      ],
      "metadata": {
        "colab": {
          "base_uri": "https://localhost:8080/"
        },
        "id": "C5bzauud8Xld",
        "outputId": "0f4848b3-dfeb-473f-de6d-099fb9efa281"
      },
      "execution_count": null,
      "outputs": [
        {
          "output_type": "execute_result",
          "data": {
            "text/plain": [
              "array([[0., 1., 0., 0., 0.],\n",
              "       [0., 1., 0., 0., 0.],\n",
              "       [0., 1., 0., 0., 0.],\n",
              "       ...,\n",
              "       [0., 1., 0., 0., 0.],\n",
              "       [0., 1., 0., 0., 0.],\n",
              "       [0., 1., 0., 0., 0.]])"
            ]
          },
          "metadata": {},
          "execution_count": 17
        }
      ]
    },
    {
      "cell_type": "code",
      "metadata": {
        "id": "ZevheHZey84P"
      },
      "source": [
        "tipo_contrato_codigo = pd.DataFrame(tipo_trabajo_codigo, columns=onehot_encoder.categories_[0]) #introducimos la matriz en el dataset"
      ],
      "execution_count": null,
      "outputs": []
    },
    {
      "cell_type": "code",
      "source": [
        "tipo_contrato_codigo.head()"
      ],
      "metadata": {
        "colab": {
          "base_uri": "https://localhost:8080/",
          "height": 206
        },
        "id": "j2_pN9hC8jLA",
        "outputId": "58f17e44-df52-46b4-df5d-c79b27c642c1"
      },
      "execution_count": null,
      "outputs": [
        {
          "output_type": "execute_result",
          "data": {
            "text/html": [
              "\n",
              "  <div id=\"df-1c918c71-8500-4a2f-9276-54eec143c902\">\n",
              "    <div class=\"colab-df-container\">\n",
              "      <div>\n",
              "<style scoped>\n",
              "    .dataframe tbody tr th:only-of-type {\n",
              "        vertical-align: middle;\n",
              "    }\n",
              "\n",
              "    .dataframe tbody tr th {\n",
              "        vertical-align: top;\n",
              "    }\n",
              "\n",
              "    .dataframe thead th {\n",
              "        text-align: right;\n",
              "    }\n",
              "</style>\n",
              "<table border=\"1\" class=\"dataframe\">\n",
              "  <thead>\n",
              "    <tr style=\"text-align: right;\">\n",
              "      <th></th>\n",
              "      <th>Freelance</th>\n",
              "      <th>Full-Time</th>\n",
              "      <th>Part-Time</th>\n",
              "      <th>Remoto (empresa de otro país)</th>\n",
              "      <th>Tercerizado (trabajo a través de consultora o agencia)</th>\n",
              "    </tr>\n",
              "  </thead>\n",
              "  <tbody>\n",
              "    <tr>\n",
              "      <th>0</th>\n",
              "      <td>0.0</td>\n",
              "      <td>1.0</td>\n",
              "      <td>0.0</td>\n",
              "      <td>0.0</td>\n",
              "      <td>0.0</td>\n",
              "    </tr>\n",
              "    <tr>\n",
              "      <th>1</th>\n",
              "      <td>0.0</td>\n",
              "      <td>1.0</td>\n",
              "      <td>0.0</td>\n",
              "      <td>0.0</td>\n",
              "      <td>0.0</td>\n",
              "    </tr>\n",
              "    <tr>\n",
              "      <th>2</th>\n",
              "      <td>0.0</td>\n",
              "      <td>1.0</td>\n",
              "      <td>0.0</td>\n",
              "      <td>0.0</td>\n",
              "      <td>0.0</td>\n",
              "    </tr>\n",
              "    <tr>\n",
              "      <th>3</th>\n",
              "      <td>0.0</td>\n",
              "      <td>1.0</td>\n",
              "      <td>0.0</td>\n",
              "      <td>0.0</td>\n",
              "      <td>0.0</td>\n",
              "    </tr>\n",
              "    <tr>\n",
              "      <th>4</th>\n",
              "      <td>0.0</td>\n",
              "      <td>1.0</td>\n",
              "      <td>0.0</td>\n",
              "      <td>0.0</td>\n",
              "      <td>0.0</td>\n",
              "    </tr>\n",
              "  </tbody>\n",
              "</table>\n",
              "</div>\n",
              "      <button class=\"colab-df-convert\" onclick=\"convertToInteractive('df-1c918c71-8500-4a2f-9276-54eec143c902')\"\n",
              "              title=\"Convert this dataframe to an interactive table.\"\n",
              "              style=\"display:none;\">\n",
              "        \n",
              "  <svg xmlns=\"http://www.w3.org/2000/svg\" height=\"24px\"viewBox=\"0 0 24 24\"\n",
              "       width=\"24px\">\n",
              "    <path d=\"M0 0h24v24H0V0z\" fill=\"none\"/>\n",
              "    <path d=\"M18.56 5.44l.94 2.06.94-2.06 2.06-.94-2.06-.94-.94-2.06-.94 2.06-2.06.94zm-11 1L8.5 8.5l.94-2.06 2.06-.94-2.06-.94L8.5 2.5l-.94 2.06-2.06.94zm10 10l.94 2.06.94-2.06 2.06-.94-2.06-.94-.94-2.06-.94 2.06-2.06.94z\"/><path d=\"M17.41 7.96l-1.37-1.37c-.4-.4-.92-.59-1.43-.59-.52 0-1.04.2-1.43.59L10.3 9.45l-7.72 7.72c-.78.78-.78 2.05 0 2.83L4 21.41c.39.39.9.59 1.41.59.51 0 1.02-.2 1.41-.59l7.78-7.78 2.81-2.81c.8-.78.8-2.07 0-2.86zM5.41 20L4 18.59l7.72-7.72 1.47 1.35L5.41 20z\"/>\n",
              "  </svg>\n",
              "      </button>\n",
              "      \n",
              "  <style>\n",
              "    .colab-df-container {\n",
              "      display:flex;\n",
              "      flex-wrap:wrap;\n",
              "      gap: 12px;\n",
              "    }\n",
              "\n",
              "    .colab-df-convert {\n",
              "      background-color: #E8F0FE;\n",
              "      border: none;\n",
              "      border-radius: 50%;\n",
              "      cursor: pointer;\n",
              "      display: none;\n",
              "      fill: #1967D2;\n",
              "      height: 32px;\n",
              "      padding: 0 0 0 0;\n",
              "      width: 32px;\n",
              "    }\n",
              "\n",
              "    .colab-df-convert:hover {\n",
              "      background-color: #E2EBFA;\n",
              "      box-shadow: 0px 1px 2px rgba(60, 64, 67, 0.3), 0px 1px 3px 1px rgba(60, 64, 67, 0.15);\n",
              "      fill: #174EA6;\n",
              "    }\n",
              "\n",
              "    [theme=dark] .colab-df-convert {\n",
              "      background-color: #3B4455;\n",
              "      fill: #D2E3FC;\n",
              "    }\n",
              "\n",
              "    [theme=dark] .colab-df-convert:hover {\n",
              "      background-color: #434B5C;\n",
              "      box-shadow: 0px 1px 3px 1px rgba(0, 0, 0, 0.15);\n",
              "      filter: drop-shadow(0px 1px 2px rgba(0, 0, 0, 0.3));\n",
              "      fill: #FFFFFF;\n",
              "    }\n",
              "  </style>\n",
              "\n",
              "      <script>\n",
              "        const buttonEl =\n",
              "          document.querySelector('#df-1c918c71-8500-4a2f-9276-54eec143c902 button.colab-df-convert');\n",
              "        buttonEl.style.display =\n",
              "          google.colab.kernel.accessAllowed ? 'block' : 'none';\n",
              "\n",
              "        async function convertToInteractive(key) {\n",
              "          const element = document.querySelector('#df-1c918c71-8500-4a2f-9276-54eec143c902');\n",
              "          const dataTable =\n",
              "            await google.colab.kernel.invokeFunction('convertToInteractive',\n",
              "                                                     [key], {});\n",
              "          if (!dataTable) return;\n",
              "\n",
              "          const docLinkHtml = 'Like what you see? Visit the ' +\n",
              "            '<a target=\"_blank\" href=https://colab.research.google.com/notebooks/data_table.ipynb>data table notebook</a>'\n",
              "            + ' to learn more about interactive tables.';\n",
              "          element.innerHTML = '';\n",
              "          dataTable['output_type'] = 'display_data';\n",
              "          await google.colab.output.renderOutput(dataTable, element);\n",
              "          const docLink = document.createElement('div');\n",
              "          docLink.innerHTML = docLinkHtml;\n",
              "          element.appendChild(docLink);\n",
              "        }\n",
              "      </script>\n",
              "    </div>\n",
              "  </div>\n",
              "  "
            ],
            "text/plain": [
              "   Freelance  ...  Tercerizado (trabajo a través de consultora o agencia)\n",
              "0        0.0  ...                                                0.0     \n",
              "1        0.0  ...                                                0.0     \n",
              "2        0.0  ...                                                0.0     \n",
              "3        0.0  ...                                                0.0     \n",
              "4        0.0  ...                                                0.0     \n",
              "\n",
              "[5 rows x 5 columns]"
            ]
          },
          "metadata": {},
          "execution_count": 19
        }
      ]
    },
    {
      "cell_type": "code",
      "source": [
        "#Pegamos los datos codificados al dataset original\n",
        "df = df.join(tipo_contrato_codigo)"
      ],
      "metadata": {
        "id": "NaHxE6Ff8wID"
      },
      "execution_count": null,
      "outputs": []
    },
    {
      "cell_type": "code",
      "source": [
        "#Eliminamos la columna original de tipo de contrato\n",
        "df =df.drop(['trabajo_tipo_contrato'], axis=1)"
      ],
      "metadata": {
        "id": "WBUdBCOi86In"
      },
      "execution_count": null,
      "outputs": []
    },
    {
      "cell_type": "code",
      "source": [
        "df.head()"
      ],
      "metadata": {
        "colab": {
          "base_uri": "https://localhost:8080/",
          "height": 391
        },
        "id": "nSp5TVvM9O4I",
        "outputId": "83da460c-2537-4eff-c330-287d43114d95"
      },
      "execution_count": null,
      "outputs": [
        {
          "output_type": "execute_result",
          "data": {
            "text/html": [
              "\n",
              "  <div id=\"df-33c4fc31-31d4-4376-ad55-e14d534f415c\">\n",
              "    <div class=\"colab-df-container\">\n",
              "      <div>\n",
              "<style scoped>\n",
              "    .dataframe tbody tr th:only-of-type {\n",
              "        vertical-align: middle;\n",
              "    }\n",
              "\n",
              "    .dataframe tbody tr th {\n",
              "        vertical-align: top;\n",
              "    }\n",
              "\n",
              "    .dataframe thead th {\n",
              "        text-align: right;\n",
              "    }\n",
              "</style>\n",
              "<table border=\"1\" class=\"dataframe\">\n",
              "  <thead>\n",
              "    <tr style=\"text-align: right;\">\n",
              "      <th></th>\n",
              "      <th>perfil_genero</th>\n",
              "      <th>perfil_edad</th>\n",
              "      <th>trabajo_provincia</th>\n",
              "      <th>perfil_anos_experiencia</th>\n",
              "      <th>trabajo_anios_empresa_actual</th>\n",
              "      <th>trabajo_anios_puesto_actual</th>\n",
              "      <th>trabajo_personas_a_cargo</th>\n",
              "      <th>perfil_nivel_estudios</th>\n",
              "      <th>perfil_estado_estudios</th>\n",
              "      <th>salario_guardias_pago</th>\n",
              "      <th>salario_mensual_BRUTO</th>\n",
              "      <th>salario_salario_dolares</th>\n",
              "      <th>experiencia_menor2</th>\n",
              "      <th>Freelance</th>\n",
              "      <th>Full-Time</th>\n",
              "      <th>Part-Time</th>\n",
              "      <th>Remoto (empresa de otro país)</th>\n",
              "      <th>Tercerizado (trabajo a través de consultora o agencia)</th>\n",
              "    </tr>\n",
              "  </thead>\n",
              "  <tbody>\n",
              "    <tr>\n",
              "      <th>0</th>\n",
              "      <td>Mujer</td>\n",
              "      <td>26</td>\n",
              "      <td>Ciudad Autónoma de Buenos Aires</td>\n",
              "      <td>3.0</td>\n",
              "      <td>3.0</td>\n",
              "      <td>3.0</td>\n",
              "      <td>0</td>\n",
              "      <td>Universitario</td>\n",
              "      <td>En curso</td>\n",
              "      <td>0.0</td>\n",
              "      <td>53000.0</td>\n",
              "      <td>NaN</td>\n",
              "      <td>0.0</td>\n",
              "      <td>0.0</td>\n",
              "      <td>1.0</td>\n",
              "      <td>0.0</td>\n",
              "      <td>0.0</td>\n",
              "      <td>0.0</td>\n",
              "    </tr>\n",
              "    <tr>\n",
              "      <th>1</th>\n",
              "      <td>Hombre</td>\n",
              "      <td>29</td>\n",
              "      <td>Corrientes</td>\n",
              "      <td>5.0</td>\n",
              "      <td>2.0</td>\n",
              "      <td>2.0</td>\n",
              "      <td>4</td>\n",
              "      <td>Universitario</td>\n",
              "      <td>En curso</td>\n",
              "      <td>0.0</td>\n",
              "      <td>79000.0</td>\n",
              "      <td>NaN</td>\n",
              "      <td>0.0</td>\n",
              "      <td>0.0</td>\n",
              "      <td>1.0</td>\n",
              "      <td>0.0</td>\n",
              "      <td>0.0</td>\n",
              "      <td>0.0</td>\n",
              "    </tr>\n",
              "    <tr>\n",
              "      <th>2</th>\n",
              "      <td>Mujer</td>\n",
              "      <td>22</td>\n",
              "      <td>Ciudad Autónoma de Buenos Aires</td>\n",
              "      <td>2.0</td>\n",
              "      <td>0.0</td>\n",
              "      <td>0.0</td>\n",
              "      <td>0</td>\n",
              "      <td>Secundario</td>\n",
              "      <td>Completado</td>\n",
              "      <td>0.0</td>\n",
              "      <td>160000.0</td>\n",
              "      <td>NaN</td>\n",
              "      <td>1.0</td>\n",
              "      <td>0.0</td>\n",
              "      <td>1.0</td>\n",
              "      <td>0.0</td>\n",
              "      <td>0.0</td>\n",
              "      <td>0.0</td>\n",
              "    </tr>\n",
              "    <tr>\n",
              "      <th>3</th>\n",
              "      <td>Hombre</td>\n",
              "      <td>39</td>\n",
              "      <td>Corrientes</td>\n",
              "      <td>15.0</td>\n",
              "      <td>15.0</td>\n",
              "      <td>13.0</td>\n",
              "      <td>5</td>\n",
              "      <td>Posgrado</td>\n",
              "      <td>Incompleto</td>\n",
              "      <td>0.0</td>\n",
              "      <td>130000.0</td>\n",
              "      <td>NaN</td>\n",
              "      <td>0.0</td>\n",
              "      <td>0.0</td>\n",
              "      <td>1.0</td>\n",
              "      <td>0.0</td>\n",
              "      <td>0.0</td>\n",
              "      <td>0.0</td>\n",
              "    </tr>\n",
              "    <tr>\n",
              "      <th>4</th>\n",
              "      <td>Hombre</td>\n",
              "      <td>32</td>\n",
              "      <td>Ciudad Autónoma de Buenos Aires</td>\n",
              "      <td>9.0</td>\n",
              "      <td>6.0</td>\n",
              "      <td>6.0</td>\n",
              "      <td>0</td>\n",
              "      <td>Universitario</td>\n",
              "      <td>En curso</td>\n",
              "      <td>0.0</td>\n",
              "      <td>140000.0</td>\n",
              "      <td>NaN</td>\n",
              "      <td>0.0</td>\n",
              "      <td>0.0</td>\n",
              "      <td>1.0</td>\n",
              "      <td>0.0</td>\n",
              "      <td>0.0</td>\n",
              "      <td>0.0</td>\n",
              "    </tr>\n",
              "  </tbody>\n",
              "</table>\n",
              "</div>\n",
              "      <button class=\"colab-df-convert\" onclick=\"convertToInteractive('df-33c4fc31-31d4-4376-ad55-e14d534f415c')\"\n",
              "              title=\"Convert this dataframe to an interactive table.\"\n",
              "              style=\"display:none;\">\n",
              "        \n",
              "  <svg xmlns=\"http://www.w3.org/2000/svg\" height=\"24px\"viewBox=\"0 0 24 24\"\n",
              "       width=\"24px\">\n",
              "    <path d=\"M0 0h24v24H0V0z\" fill=\"none\"/>\n",
              "    <path d=\"M18.56 5.44l.94 2.06.94-2.06 2.06-.94-2.06-.94-.94-2.06-.94 2.06-2.06.94zm-11 1L8.5 8.5l.94-2.06 2.06-.94-2.06-.94L8.5 2.5l-.94 2.06-2.06.94zm10 10l.94 2.06.94-2.06 2.06-.94-2.06-.94-.94-2.06-.94 2.06-2.06.94z\"/><path d=\"M17.41 7.96l-1.37-1.37c-.4-.4-.92-.59-1.43-.59-.52 0-1.04.2-1.43.59L10.3 9.45l-7.72 7.72c-.78.78-.78 2.05 0 2.83L4 21.41c.39.39.9.59 1.41.59.51 0 1.02-.2 1.41-.59l7.78-7.78 2.81-2.81c.8-.78.8-2.07 0-2.86zM5.41 20L4 18.59l7.72-7.72 1.47 1.35L5.41 20z\"/>\n",
              "  </svg>\n",
              "      </button>\n",
              "      \n",
              "  <style>\n",
              "    .colab-df-container {\n",
              "      display:flex;\n",
              "      flex-wrap:wrap;\n",
              "      gap: 12px;\n",
              "    }\n",
              "\n",
              "    .colab-df-convert {\n",
              "      background-color: #E8F0FE;\n",
              "      border: none;\n",
              "      border-radius: 50%;\n",
              "      cursor: pointer;\n",
              "      display: none;\n",
              "      fill: #1967D2;\n",
              "      height: 32px;\n",
              "      padding: 0 0 0 0;\n",
              "      width: 32px;\n",
              "    }\n",
              "\n",
              "    .colab-df-convert:hover {\n",
              "      background-color: #E2EBFA;\n",
              "      box-shadow: 0px 1px 2px rgba(60, 64, 67, 0.3), 0px 1px 3px 1px rgba(60, 64, 67, 0.15);\n",
              "      fill: #174EA6;\n",
              "    }\n",
              "\n",
              "    [theme=dark] .colab-df-convert {\n",
              "      background-color: #3B4455;\n",
              "      fill: #D2E3FC;\n",
              "    }\n",
              "\n",
              "    [theme=dark] .colab-df-convert:hover {\n",
              "      background-color: #434B5C;\n",
              "      box-shadow: 0px 1px 3px 1px rgba(0, 0, 0, 0.15);\n",
              "      filter: drop-shadow(0px 1px 2px rgba(0, 0, 0, 0.3));\n",
              "      fill: #FFFFFF;\n",
              "    }\n",
              "  </style>\n",
              "\n",
              "      <script>\n",
              "        const buttonEl =\n",
              "          document.querySelector('#df-33c4fc31-31d4-4376-ad55-e14d534f415c button.colab-df-convert');\n",
              "        buttonEl.style.display =\n",
              "          google.colab.kernel.accessAllowed ? 'block' : 'none';\n",
              "\n",
              "        async function convertToInteractive(key) {\n",
              "          const element = document.querySelector('#df-33c4fc31-31d4-4376-ad55-e14d534f415c');\n",
              "          const dataTable =\n",
              "            await google.colab.kernel.invokeFunction('convertToInteractive',\n",
              "                                                     [key], {});\n",
              "          if (!dataTable) return;\n",
              "\n",
              "          const docLinkHtml = 'Like what you see? Visit the ' +\n",
              "            '<a target=\"_blank\" href=https://colab.research.google.com/notebooks/data_table.ipynb>data table notebook</a>'\n",
              "            + ' to learn more about interactive tables.';\n",
              "          element.innerHTML = '';\n",
              "          dataTable['output_type'] = 'display_data';\n",
              "          await google.colab.output.renderOutput(dataTable, element);\n",
              "          const docLink = document.createElement('div');\n",
              "          docLink.innerHTML = docLinkHtml;\n",
              "          element.appendChild(docLink);\n",
              "        }\n",
              "      </script>\n",
              "    </div>\n",
              "  </div>\n",
              "  "
            ],
            "text/plain": [
              "  perfil_genero  ...  Tercerizado (trabajo a través de consultora o agencia)\n",
              "0         Mujer  ...                                                0.0     \n",
              "1        Hombre  ...                                                0.0     \n",
              "2         Mujer  ...                                                0.0     \n",
              "3        Hombre  ...                                                0.0     \n",
              "4        Hombre  ...                                                0.0     \n",
              "\n",
              "[5 rows x 18 columns]"
            ]
          },
          "metadata": {},
          "execution_count": 22
        }
      ]
    },
    {
      "cell_type": "markdown",
      "source": [
        "**Columna: Salario Dolares**\n",
        "\n",
        "\n",
        "También puede haber columnas donde esté \"implícito\" que requieren una codificación como:"
      ],
      "metadata": {
        "id": "b6Ykl6gg9gom"
      }
    },
    {
      "cell_type": "code",
      "source": [
        "df.salario_salario_dolares.unique() "
      ],
      "metadata": {
        "colab": {
          "base_uri": "https://localhost:8080/"
        },
        "id": "eVkiVdlf9k8Q",
        "outputId": "38b2566f-d5c7-4011-9613-d2258c0b04ba"
      },
      "execution_count": null,
      "outputs": [
        {
          "output_type": "execute_result",
          "data": {
            "text/plain": [
              "array([nan, 'Mi sueldo está dolarizado'], dtype=object)"
            ]
          },
          "metadata": {},
          "execution_count": 23
        }
      ]
    },
    {
      "cell_type": "markdown",
      "source": [
        "Vemos que tenemos dos valores: nulos (no tiene salario en USD) y mi sueldo esta dolarizado. \n",
        "Asumimos que los nulos son salarios que se cobran en pesos.\n",
        "Vamos a reemplazar los nulos por 0 y los sueldos dolarizados por 1"
      ],
      "metadata": {
        "id": "7y2HPbyK9wmw"
      }
    },
    {
      "cell_type": "code",
      "source": [
        "df['salario_salario_dolares'] = df.salario_salario_dolares.replace('Mi sueldo está dolarizado', 1)\n"
      ],
      "metadata": {
        "id": "vi1QxQRe-CkB"
      },
      "execution_count": null,
      "outputs": []
    },
    {
      "cell_type": "code",
      "source": [
        "df.salario_salario_dolares.fillna(0, inplace=True)"
      ],
      "metadata": {
        "id": "8VQj400C-IQy"
      },
      "execution_count": null,
      "outputs": []
    },
    {
      "cell_type": "code",
      "source": [
        "#Trasformamos el tipo de datos a numéricos, ya que era string y no va tomar los valores como válidos\n",
        "df['salario_salario_dolares']=df['salario_salario_dolares'].astype(int)"
      ],
      "metadata": {
        "id": "3ZfLiQV3-oyA"
      },
      "execution_count": null,
      "outputs": []
    },
    {
      "cell_type": "code",
      "source": [
        "df.salario_salario_dolares.value_counts()"
      ],
      "metadata": {
        "colab": {
          "base_uri": "https://localhost:8080/"
        },
        "id": "63xn99beAKk3",
        "outputId": "95bc2d8b-5144-4a2a-aa0e-2c93dbb41975"
      },
      "execution_count": null,
      "outputs": [
        {
          "output_type": "execute_result",
          "data": {
            "text/plain": [
              "0    5419\n",
              "1     676\n",
              "Name: salario_salario_dolares, dtype: int64"
            ]
          },
          "metadata": {},
          "execution_count": 27
        }
      ]
    },
    {
      "cell_type": "markdown",
      "metadata": {
        "id": "XGJNgyCI29wS"
      },
      "source": [
        "\n",
        "# **Ordinal Encoding**\n",
        "\n",
        "Genera una unica columna con la asignación para cada valor. \n",
        "Puede dar la impresión de que green en mayor que yellow, pero en realidad no corresponderia, por eso se usa el método Hot Encoding.\n",
        "Se puede usar en caso de que sean categorías ordinales\n",
        "\n",
        "![labelEncoding.png](data:image/png;base64,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)\n"
      ]
    },
    {
      "cell_type": "code",
      "source": [
        "#Importamos la librería\n",
        "from sklearn.preprocessing import OrdinalEncoder"
      ],
      "metadata": {
        "id": "qbF74WO4BImB"
      },
      "execution_count": null,
      "outputs": []
    },
    {
      "cell_type": "code",
      "source": [
        "#Creamos el objeto del tipo LabelEncoder\n",
        "ordinal_encoder = OrdinalEncoder()"
      ],
      "metadata": {
        "id": "0wlP9ODxBWCm"
      },
      "execution_count": null,
      "outputs": []
    },
    {
      "cell_type": "code",
      "source": [
        "#Usamos el método fit_transform para codificar la columna perfil_genero del data set\n",
        "ordinal_encoder.fit_transform(df[['perfil_genero']])"
      ],
      "metadata": {
        "colab": {
          "base_uri": "https://localhost:8080/"
        },
        "id": "DVECyqAZBd3E",
        "outputId": "d52770dc-9d60-47bd-8caf-18ad8bf0e43c"
      },
      "execution_count": null,
      "outputs": [
        {
          "output_type": "execute_result",
          "data": {
            "text/plain": [
              "array([[1.],\n",
              "       [0.],\n",
              "       [1.],\n",
              "       ...,\n",
              "       [0.],\n",
              "       [0.],\n",
              "       [0.]])"
            ]
          },
          "metadata": {},
          "execution_count": 30
        }
      ]
    },
    {
      "cell_type": "code",
      "source": [
        "#Pegamos los datos codificados al dataset original, de esta manera al nombrar una columna que no existe en el df, lo agrega automáticamente, evitamos hacer el join\n",
        "df['perfil_genero_codigo']= ordinal_encoder.fit_transform(df[['perfil_genero']])"
      ],
      "metadata": {
        "id": "6saprISHB1oh"
      },
      "execution_count": null,
      "outputs": []
    },
    {
      "cell_type": "code",
      "source": [
        "#Eliminamos la columna perfil_genero original\n",
        "df = df.drop(['perfil_genero'], axis=1)"
      ],
      "metadata": {
        "id": "FycDNuHyCOva"
      },
      "execution_count": null,
      "outputs": []
    },
    {
      "cell_type": "code",
      "source": [
        "df.head()"
      ],
      "metadata": {
        "colab": {
          "base_uri": "https://localhost:8080/",
          "height": 391
        },
        "id": "G4SmQV9OCU6z",
        "outputId": "df149720-1b99-484f-fbc7-d920fd154668"
      },
      "execution_count": null,
      "outputs": [
        {
          "output_type": "execute_result",
          "data": {
            "text/html": [
              "\n",
              "  <div id=\"df-f86ab267-abf6-4e96-bdfa-355dc2584300\">\n",
              "    <div class=\"colab-df-container\">\n",
              "      <div>\n",
              "<style scoped>\n",
              "    .dataframe tbody tr th:only-of-type {\n",
              "        vertical-align: middle;\n",
              "    }\n",
              "\n",
              "    .dataframe tbody tr th {\n",
              "        vertical-align: top;\n",
              "    }\n",
              "\n",
              "    .dataframe thead th {\n",
              "        text-align: right;\n",
              "    }\n",
              "</style>\n",
              "<table border=\"1\" class=\"dataframe\">\n",
              "  <thead>\n",
              "    <tr style=\"text-align: right;\">\n",
              "      <th></th>\n",
              "      <th>perfil_edad</th>\n",
              "      <th>trabajo_provincia</th>\n",
              "      <th>perfil_anos_experiencia</th>\n",
              "      <th>trabajo_anios_empresa_actual</th>\n",
              "      <th>trabajo_anios_puesto_actual</th>\n",
              "      <th>trabajo_personas_a_cargo</th>\n",
              "      <th>perfil_nivel_estudios</th>\n",
              "      <th>perfil_estado_estudios</th>\n",
              "      <th>salario_guardias_pago</th>\n",
              "      <th>salario_mensual_BRUTO</th>\n",
              "      <th>salario_salario_dolares</th>\n",
              "      <th>experiencia_menor2</th>\n",
              "      <th>Freelance</th>\n",
              "      <th>Full-Time</th>\n",
              "      <th>Part-Time</th>\n",
              "      <th>Remoto (empresa de otro país)</th>\n",
              "      <th>Tercerizado (trabajo a través de consultora o agencia)</th>\n",
              "      <th>perfil_genero_codigo</th>\n",
              "    </tr>\n",
              "  </thead>\n",
              "  <tbody>\n",
              "    <tr>\n",
              "      <th>0</th>\n",
              "      <td>26</td>\n",
              "      <td>Ciudad Autónoma de Buenos Aires</td>\n",
              "      <td>3.0</td>\n",
              "      <td>3.0</td>\n",
              "      <td>3.0</td>\n",
              "      <td>0</td>\n",
              "      <td>Universitario</td>\n",
              "      <td>En curso</td>\n",
              "      <td>0.0</td>\n",
              "      <td>53000.0</td>\n",
              "      <td>0</td>\n",
              "      <td>0.0</td>\n",
              "      <td>0.0</td>\n",
              "      <td>1.0</td>\n",
              "      <td>0.0</td>\n",
              "      <td>0.0</td>\n",
              "      <td>0.0</td>\n",
              "      <td>1.0</td>\n",
              "    </tr>\n",
              "    <tr>\n",
              "      <th>1</th>\n",
              "      <td>29</td>\n",
              "      <td>Corrientes</td>\n",
              "      <td>5.0</td>\n",
              "      <td>2.0</td>\n",
              "      <td>2.0</td>\n",
              "      <td>4</td>\n",
              "      <td>Universitario</td>\n",
              "      <td>En curso</td>\n",
              "      <td>0.0</td>\n",
              "      <td>79000.0</td>\n",
              "      <td>0</td>\n",
              "      <td>0.0</td>\n",
              "      <td>0.0</td>\n",
              "      <td>1.0</td>\n",
              "      <td>0.0</td>\n",
              "      <td>0.0</td>\n",
              "      <td>0.0</td>\n",
              "      <td>0.0</td>\n",
              "    </tr>\n",
              "    <tr>\n",
              "      <th>2</th>\n",
              "      <td>22</td>\n",
              "      <td>Ciudad Autónoma de Buenos Aires</td>\n",
              "      <td>2.0</td>\n",
              "      <td>0.0</td>\n",
              "      <td>0.0</td>\n",
              "      <td>0</td>\n",
              "      <td>Secundario</td>\n",
              "      <td>Completado</td>\n",
              "      <td>0.0</td>\n",
              "      <td>160000.0</td>\n",
              "      <td>0</td>\n",
              "      <td>1.0</td>\n",
              "      <td>0.0</td>\n",
              "      <td>1.0</td>\n",
              "      <td>0.0</td>\n",
              "      <td>0.0</td>\n",
              "      <td>0.0</td>\n",
              "      <td>1.0</td>\n",
              "    </tr>\n",
              "    <tr>\n",
              "      <th>3</th>\n",
              "      <td>39</td>\n",
              "      <td>Corrientes</td>\n",
              "      <td>15.0</td>\n",
              "      <td>15.0</td>\n",
              "      <td>13.0</td>\n",
              "      <td>5</td>\n",
              "      <td>Posgrado</td>\n",
              "      <td>Incompleto</td>\n",
              "      <td>0.0</td>\n",
              "      <td>130000.0</td>\n",
              "      <td>0</td>\n",
              "      <td>0.0</td>\n",
              "      <td>0.0</td>\n",
              "      <td>1.0</td>\n",
              "      <td>0.0</td>\n",
              "      <td>0.0</td>\n",
              "      <td>0.0</td>\n",
              "      <td>0.0</td>\n",
              "    </tr>\n",
              "    <tr>\n",
              "      <th>4</th>\n",
              "      <td>32</td>\n",
              "      <td>Ciudad Autónoma de Buenos Aires</td>\n",
              "      <td>9.0</td>\n",
              "      <td>6.0</td>\n",
              "      <td>6.0</td>\n",
              "      <td>0</td>\n",
              "      <td>Universitario</td>\n",
              "      <td>En curso</td>\n",
              "      <td>0.0</td>\n",
              "      <td>140000.0</td>\n",
              "      <td>0</td>\n",
              "      <td>0.0</td>\n",
              "      <td>0.0</td>\n",
              "      <td>1.0</td>\n",
              "      <td>0.0</td>\n",
              "      <td>0.0</td>\n",
              "      <td>0.0</td>\n",
              "      <td>0.0</td>\n",
              "    </tr>\n",
              "  </tbody>\n",
              "</table>\n",
              "</div>\n",
              "      <button class=\"colab-df-convert\" onclick=\"convertToInteractive('df-f86ab267-abf6-4e96-bdfa-355dc2584300')\"\n",
              "              title=\"Convert this dataframe to an interactive table.\"\n",
              "              style=\"display:none;\">\n",
              "        \n",
              "  <svg xmlns=\"http://www.w3.org/2000/svg\" height=\"24px\"viewBox=\"0 0 24 24\"\n",
              "       width=\"24px\">\n",
              "    <path d=\"M0 0h24v24H0V0z\" fill=\"none\"/>\n",
              "    <path d=\"M18.56 5.44l.94 2.06.94-2.06 2.06-.94-2.06-.94-.94-2.06-.94 2.06-2.06.94zm-11 1L8.5 8.5l.94-2.06 2.06-.94-2.06-.94L8.5 2.5l-.94 2.06-2.06.94zm10 10l.94 2.06.94-2.06 2.06-.94-2.06-.94-.94-2.06-.94 2.06-2.06.94z\"/><path d=\"M17.41 7.96l-1.37-1.37c-.4-.4-.92-.59-1.43-.59-.52 0-1.04.2-1.43.59L10.3 9.45l-7.72 7.72c-.78.78-.78 2.05 0 2.83L4 21.41c.39.39.9.59 1.41.59.51 0 1.02-.2 1.41-.59l7.78-7.78 2.81-2.81c.8-.78.8-2.07 0-2.86zM5.41 20L4 18.59l7.72-7.72 1.47 1.35L5.41 20z\"/>\n",
              "  </svg>\n",
              "      </button>\n",
              "      \n",
              "  <style>\n",
              "    .colab-df-container {\n",
              "      display:flex;\n",
              "      flex-wrap:wrap;\n",
              "      gap: 12px;\n",
              "    }\n",
              "\n",
              "    .colab-df-convert {\n",
              "      background-color: #E8F0FE;\n",
              "      border: none;\n",
              "      border-radius: 50%;\n",
              "      cursor: pointer;\n",
              "      display: none;\n",
              "      fill: #1967D2;\n",
              "      height: 32px;\n",
              "      padding: 0 0 0 0;\n",
              "      width: 32px;\n",
              "    }\n",
              "\n",
              "    .colab-df-convert:hover {\n",
              "      background-color: #E2EBFA;\n",
              "      box-shadow: 0px 1px 2px rgba(60, 64, 67, 0.3), 0px 1px 3px 1px rgba(60, 64, 67, 0.15);\n",
              "      fill: #174EA6;\n",
              "    }\n",
              "\n",
              "    [theme=dark] .colab-df-convert {\n",
              "      background-color: #3B4455;\n",
              "      fill: #D2E3FC;\n",
              "    }\n",
              "\n",
              "    [theme=dark] .colab-df-convert:hover {\n",
              "      background-color: #434B5C;\n",
              "      box-shadow: 0px 1px 3px 1px rgba(0, 0, 0, 0.15);\n",
              "      filter: drop-shadow(0px 1px 2px rgba(0, 0, 0, 0.3));\n",
              "      fill: #FFFFFF;\n",
              "    }\n",
              "  </style>\n",
              "\n",
              "      <script>\n",
              "        const buttonEl =\n",
              "          document.querySelector('#df-f86ab267-abf6-4e96-bdfa-355dc2584300 button.colab-df-convert');\n",
              "        buttonEl.style.display =\n",
              "          google.colab.kernel.accessAllowed ? 'block' : 'none';\n",
              "\n",
              "        async function convertToInteractive(key) {\n",
              "          const element = document.querySelector('#df-f86ab267-abf6-4e96-bdfa-355dc2584300');\n",
              "          const dataTable =\n",
              "            await google.colab.kernel.invokeFunction('convertToInteractive',\n",
              "                                                     [key], {});\n",
              "          if (!dataTable) return;\n",
              "\n",
              "          const docLinkHtml = 'Like what you see? Visit the ' +\n",
              "            '<a target=\"_blank\" href=https://colab.research.google.com/notebooks/data_table.ipynb>data table notebook</a>'\n",
              "            + ' to learn more about interactive tables.';\n",
              "          element.innerHTML = '';\n",
              "          dataTable['output_type'] = 'display_data';\n",
              "          await google.colab.output.renderOutput(dataTable, element);\n",
              "          const docLink = document.createElement('div');\n",
              "          docLink.innerHTML = docLinkHtml;\n",
              "          element.appendChild(docLink);\n",
              "        }\n",
              "      </script>\n",
              "    </div>\n",
              "  </div>\n",
              "  "
            ],
            "text/plain": [
              "   perfil_edad  ... perfil_genero_codigo\n",
              "0           26  ...                  1.0\n",
              "1           29  ...                  0.0\n",
              "2           22  ...                  1.0\n",
              "3           39  ...                  0.0\n",
              "4           32  ...                  0.0\n",
              "\n",
              "[5 rows x 18 columns]"
            ]
          },
          "metadata": {},
          "execution_count": 33
        }
      ]
    },
    {
      "cell_type": "markdown",
      "source": [
        "También existen columnas que si bien aplicaría un LabelEncoder como el nivel de estudios y el estado de los estudios. Como la compu no puede saber cual es el orden correcto (lo hace alfabéticamente) lo haremos de forma manual con la función MAP"
      ],
      "metadata": {
        "id": "PF6EAN7tDQl8"
      }
    },
    {
      "cell_type": "markdown",
      "metadata": {
        "id": "G3I0gFxYSffC"
      },
      "source": [
        "# **Función map**\n",
        "\n",
        "<img src=\"https://swiftunboxed.com/images/map.png\" height=\"250\" />\n",
        "\n",
        "\n",
        "\n",
        "\n"
      ]
    },
    {
      "cell_type": "code",
      "source": [
        "df['perfil_nivel_estudios'].unique()"
      ],
      "metadata": {
        "colab": {
          "base_uri": "https://localhost:8080/"
        },
        "id": "peaXAd-eDnCL",
        "outputId": "3db07661-1e16-4b3d-c6d3-441d2b343632"
      },
      "execution_count": null,
      "outputs": [
        {
          "output_type": "execute_result",
          "data": {
            "text/plain": [
              "array(['Universitario', 'Secundario', 'Posgrado', 'Terciario',\n",
              "       'Doctorado', 'Posdoctorado', 'Primario'], dtype=object)"
            ]
          },
          "metadata": {},
          "execution_count": 34
        }
      ]
    },
    {
      "cell_type": "code",
      "source": [
        "#Vamos a pasarle manualmente el orden, a través de un diccionario\n",
        "df['perfil_nivel_estudios'] = df['perfil_nivel_estudios'].map({'Primario':1 , \n",
        "                                                               'Secundario':2,\n",
        "                                                               'Terciario' :3,\n",
        "                                                               'Universitario':4,                                                          \n",
        "                                                               'Posgrado' : 5,\n",
        "                                                               'Doctorado' : 6,\n",
        "                                                               'Posdoctorado' : 6\n",
        "                                                               })"
      ],
      "metadata": {
        "id": "dclNL4MwDsqs"
      },
      "execution_count": null,
      "outputs": []
    },
    {
      "cell_type": "code",
      "source": [
        "df.head()"
      ],
      "metadata": {
        "colab": {
          "base_uri": "https://localhost:8080/",
          "height": 391
        },
        "id": "C7ZfnVtNEUpT",
        "outputId": "9fad1adc-e94b-4bd7-8051-7d39cf8335c3"
      },
      "execution_count": null,
      "outputs": [
        {
          "output_type": "execute_result",
          "data": {
            "text/html": [
              "\n",
              "  <div id=\"df-2ed7c146-6586-4ed9-8d27-e39c2f4e90d1\">\n",
              "    <div class=\"colab-df-container\">\n",
              "      <div>\n",
              "<style scoped>\n",
              "    .dataframe tbody tr th:only-of-type {\n",
              "        vertical-align: middle;\n",
              "    }\n",
              "\n",
              "    .dataframe tbody tr th {\n",
              "        vertical-align: top;\n",
              "    }\n",
              "\n",
              "    .dataframe thead th {\n",
              "        text-align: right;\n",
              "    }\n",
              "</style>\n",
              "<table border=\"1\" class=\"dataframe\">\n",
              "  <thead>\n",
              "    <tr style=\"text-align: right;\">\n",
              "      <th></th>\n",
              "      <th>perfil_edad</th>\n",
              "      <th>trabajo_provincia</th>\n",
              "      <th>perfil_anos_experiencia</th>\n",
              "      <th>trabajo_anios_empresa_actual</th>\n",
              "      <th>trabajo_anios_puesto_actual</th>\n",
              "      <th>trabajo_personas_a_cargo</th>\n",
              "      <th>perfil_nivel_estudios</th>\n",
              "      <th>perfil_estado_estudios</th>\n",
              "      <th>salario_guardias_pago</th>\n",
              "      <th>salario_mensual_BRUTO</th>\n",
              "      <th>salario_salario_dolares</th>\n",
              "      <th>experiencia_menor2</th>\n",
              "      <th>Freelance</th>\n",
              "      <th>Full-Time</th>\n",
              "      <th>Part-Time</th>\n",
              "      <th>Remoto (empresa de otro país)</th>\n",
              "      <th>Tercerizado (trabajo a través de consultora o agencia)</th>\n",
              "      <th>perfil_genero_codigo</th>\n",
              "    </tr>\n",
              "  </thead>\n",
              "  <tbody>\n",
              "    <tr>\n",
              "      <th>0</th>\n",
              "      <td>26</td>\n",
              "      <td>Ciudad Autónoma de Buenos Aires</td>\n",
              "      <td>3.0</td>\n",
              "      <td>3.0</td>\n",
              "      <td>3.0</td>\n",
              "      <td>0</td>\n",
              "      <td>4</td>\n",
              "      <td>En curso</td>\n",
              "      <td>0.0</td>\n",
              "      <td>53000.0</td>\n",
              "      <td>0</td>\n",
              "      <td>0.0</td>\n",
              "      <td>0.0</td>\n",
              "      <td>1.0</td>\n",
              "      <td>0.0</td>\n",
              "      <td>0.0</td>\n",
              "      <td>0.0</td>\n",
              "      <td>1.0</td>\n",
              "    </tr>\n",
              "    <tr>\n",
              "      <th>1</th>\n",
              "      <td>29</td>\n",
              "      <td>Corrientes</td>\n",
              "      <td>5.0</td>\n",
              "      <td>2.0</td>\n",
              "      <td>2.0</td>\n",
              "      <td>4</td>\n",
              "      <td>4</td>\n",
              "      <td>En curso</td>\n",
              "      <td>0.0</td>\n",
              "      <td>79000.0</td>\n",
              "      <td>0</td>\n",
              "      <td>0.0</td>\n",
              "      <td>0.0</td>\n",
              "      <td>1.0</td>\n",
              "      <td>0.0</td>\n",
              "      <td>0.0</td>\n",
              "      <td>0.0</td>\n",
              "      <td>0.0</td>\n",
              "    </tr>\n",
              "    <tr>\n",
              "      <th>2</th>\n",
              "      <td>22</td>\n",
              "      <td>Ciudad Autónoma de Buenos Aires</td>\n",
              "      <td>2.0</td>\n",
              "      <td>0.0</td>\n",
              "      <td>0.0</td>\n",
              "      <td>0</td>\n",
              "      <td>2</td>\n",
              "      <td>Completado</td>\n",
              "      <td>0.0</td>\n",
              "      <td>160000.0</td>\n",
              "      <td>0</td>\n",
              "      <td>1.0</td>\n",
              "      <td>0.0</td>\n",
              "      <td>1.0</td>\n",
              "      <td>0.0</td>\n",
              "      <td>0.0</td>\n",
              "      <td>0.0</td>\n",
              "      <td>1.0</td>\n",
              "    </tr>\n",
              "    <tr>\n",
              "      <th>3</th>\n",
              "      <td>39</td>\n",
              "      <td>Corrientes</td>\n",
              "      <td>15.0</td>\n",
              "      <td>15.0</td>\n",
              "      <td>13.0</td>\n",
              "      <td>5</td>\n",
              "      <td>5</td>\n",
              "      <td>Incompleto</td>\n",
              "      <td>0.0</td>\n",
              "      <td>130000.0</td>\n",
              "      <td>0</td>\n",
              "      <td>0.0</td>\n",
              "      <td>0.0</td>\n",
              "      <td>1.0</td>\n",
              "      <td>0.0</td>\n",
              "      <td>0.0</td>\n",
              "      <td>0.0</td>\n",
              "      <td>0.0</td>\n",
              "    </tr>\n",
              "    <tr>\n",
              "      <th>4</th>\n",
              "      <td>32</td>\n",
              "      <td>Ciudad Autónoma de Buenos Aires</td>\n",
              "      <td>9.0</td>\n",
              "      <td>6.0</td>\n",
              "      <td>6.0</td>\n",
              "      <td>0</td>\n",
              "      <td>4</td>\n",
              "      <td>En curso</td>\n",
              "      <td>0.0</td>\n",
              "      <td>140000.0</td>\n",
              "      <td>0</td>\n",
              "      <td>0.0</td>\n",
              "      <td>0.0</td>\n",
              "      <td>1.0</td>\n",
              "      <td>0.0</td>\n",
              "      <td>0.0</td>\n",
              "      <td>0.0</td>\n",
              "      <td>0.0</td>\n",
              "    </tr>\n",
              "  </tbody>\n",
              "</table>\n",
              "</div>\n",
              "      <button class=\"colab-df-convert\" onclick=\"convertToInteractive('df-2ed7c146-6586-4ed9-8d27-e39c2f4e90d1')\"\n",
              "              title=\"Convert this dataframe to an interactive table.\"\n",
              "              style=\"display:none;\">\n",
              "        \n",
              "  <svg xmlns=\"http://www.w3.org/2000/svg\" height=\"24px\"viewBox=\"0 0 24 24\"\n",
              "       width=\"24px\">\n",
              "    <path d=\"M0 0h24v24H0V0z\" fill=\"none\"/>\n",
              "    <path d=\"M18.56 5.44l.94 2.06.94-2.06 2.06-.94-2.06-.94-.94-2.06-.94 2.06-2.06.94zm-11 1L8.5 8.5l.94-2.06 2.06-.94-2.06-.94L8.5 2.5l-.94 2.06-2.06.94zm10 10l.94 2.06.94-2.06 2.06-.94-2.06-.94-.94-2.06-.94 2.06-2.06.94z\"/><path d=\"M17.41 7.96l-1.37-1.37c-.4-.4-.92-.59-1.43-.59-.52 0-1.04.2-1.43.59L10.3 9.45l-7.72 7.72c-.78.78-.78 2.05 0 2.83L4 21.41c.39.39.9.59 1.41.59.51 0 1.02-.2 1.41-.59l7.78-7.78 2.81-2.81c.8-.78.8-2.07 0-2.86zM5.41 20L4 18.59l7.72-7.72 1.47 1.35L5.41 20z\"/>\n",
              "  </svg>\n",
              "      </button>\n",
              "      \n",
              "  <style>\n",
              "    .colab-df-container {\n",
              "      display:flex;\n",
              "      flex-wrap:wrap;\n",
              "      gap: 12px;\n",
              "    }\n",
              "\n",
              "    .colab-df-convert {\n",
              "      background-color: #E8F0FE;\n",
              "      border: none;\n",
              "      border-radius: 50%;\n",
              "      cursor: pointer;\n",
              "      display: none;\n",
              "      fill: #1967D2;\n",
              "      height: 32px;\n",
              "      padding: 0 0 0 0;\n",
              "      width: 32px;\n",
              "    }\n",
              "\n",
              "    .colab-df-convert:hover {\n",
              "      background-color: #E2EBFA;\n",
              "      box-shadow: 0px 1px 2px rgba(60, 64, 67, 0.3), 0px 1px 3px 1px rgba(60, 64, 67, 0.15);\n",
              "      fill: #174EA6;\n",
              "    }\n",
              "\n",
              "    [theme=dark] .colab-df-convert {\n",
              "      background-color: #3B4455;\n",
              "      fill: #D2E3FC;\n",
              "    }\n",
              "\n",
              "    [theme=dark] .colab-df-convert:hover {\n",
              "      background-color: #434B5C;\n",
              "      box-shadow: 0px 1px 3px 1px rgba(0, 0, 0, 0.15);\n",
              "      filter: drop-shadow(0px 1px 2px rgba(0, 0, 0, 0.3));\n",
              "      fill: #FFFFFF;\n",
              "    }\n",
              "  </style>\n",
              "\n",
              "      <script>\n",
              "        const buttonEl =\n",
              "          document.querySelector('#df-2ed7c146-6586-4ed9-8d27-e39c2f4e90d1 button.colab-df-convert');\n",
              "        buttonEl.style.display =\n",
              "          google.colab.kernel.accessAllowed ? 'block' : 'none';\n",
              "\n",
              "        async function convertToInteractive(key) {\n",
              "          const element = document.querySelector('#df-2ed7c146-6586-4ed9-8d27-e39c2f4e90d1');\n",
              "          const dataTable =\n",
              "            await google.colab.kernel.invokeFunction('convertToInteractive',\n",
              "                                                     [key], {});\n",
              "          if (!dataTable) return;\n",
              "\n",
              "          const docLinkHtml = 'Like what you see? Visit the ' +\n",
              "            '<a target=\"_blank\" href=https://colab.research.google.com/notebooks/data_table.ipynb>data table notebook</a>'\n",
              "            + ' to learn more about interactive tables.';\n",
              "          element.innerHTML = '';\n",
              "          dataTable['output_type'] = 'display_data';\n",
              "          await google.colab.output.renderOutput(dataTable, element);\n",
              "          const docLink = document.createElement('div');\n",
              "          docLink.innerHTML = docLinkHtml;\n",
              "          element.appendChild(docLink);\n",
              "        }\n",
              "      </script>\n",
              "    </div>\n",
              "  </div>\n",
              "  "
            ],
            "text/plain": [
              "   perfil_edad  ... perfil_genero_codigo\n",
              "0           26  ...                  1.0\n",
              "1           29  ...                  0.0\n",
              "2           22  ...                  1.0\n",
              "3           39  ...                  0.0\n",
              "4           32  ...                  0.0\n",
              "\n",
              "[5 rows x 18 columns]"
            ]
          },
          "metadata": {},
          "execution_count": 36
        }
      ]
    },
    {
      "cell_type": "markdown",
      "source": [
        "Hagamos lo mismo con la variable perfil_estado_estudios"
      ],
      "metadata": {
        "id": "qTzdIcOHExgw"
      }
    },
    {
      "cell_type": "code",
      "source": [
        "df['perfil_estado_estudios'].unique()"
      ],
      "metadata": {
        "colab": {
          "base_uri": "https://localhost:8080/"
        },
        "id": "K3gX-Ei-GDak",
        "outputId": "78e86e5c-2606-491e-ac95-8e66626520a0"
      },
      "execution_count": null,
      "outputs": [
        {
          "output_type": "execute_result",
          "data": {
            "text/plain": [
              "array(['En curso', 'Completado', 'Incompleto'], dtype=object)"
            ]
          },
          "metadata": {},
          "execution_count": 37
        }
      ]
    },
    {
      "cell_type": "code",
      "source": [
        "df['perfil_estado_estudios'] = df['perfil_estado_estudios'].map({'Incompleto':0, \n",
        "                                                               'En curso':1,\n",
        "                                                               'Completado' :2\n",
        "                                                               })"
      ],
      "metadata": {
        "id": "DyeA1wB9GGno"
      },
      "execution_count": null,
      "outputs": []
    },
    {
      "cell_type": "code",
      "source": [
        "df.head()"
      ],
      "metadata": {
        "colab": {
          "base_uri": "https://localhost:8080/",
          "height": 391
        },
        "id": "3JK1yOGaGTNl",
        "outputId": "b8921d31-1ed5-47ef-b18d-fc577173bf2e"
      },
      "execution_count": null,
      "outputs": [
        {
          "output_type": "execute_result",
          "data": {
            "text/html": [
              "\n",
              "  <div id=\"df-05615eb2-dfa0-4774-aa8b-3b709c9ebbbd\">\n",
              "    <div class=\"colab-df-container\">\n",
              "      <div>\n",
              "<style scoped>\n",
              "    .dataframe tbody tr th:only-of-type {\n",
              "        vertical-align: middle;\n",
              "    }\n",
              "\n",
              "    .dataframe tbody tr th {\n",
              "        vertical-align: top;\n",
              "    }\n",
              "\n",
              "    .dataframe thead th {\n",
              "        text-align: right;\n",
              "    }\n",
              "</style>\n",
              "<table border=\"1\" class=\"dataframe\">\n",
              "  <thead>\n",
              "    <tr style=\"text-align: right;\">\n",
              "      <th></th>\n",
              "      <th>perfil_edad</th>\n",
              "      <th>trabajo_provincia</th>\n",
              "      <th>perfil_anos_experiencia</th>\n",
              "      <th>trabajo_anios_empresa_actual</th>\n",
              "      <th>trabajo_anios_puesto_actual</th>\n",
              "      <th>trabajo_personas_a_cargo</th>\n",
              "      <th>perfil_nivel_estudios</th>\n",
              "      <th>perfil_estado_estudios</th>\n",
              "      <th>salario_guardias_pago</th>\n",
              "      <th>salario_mensual_BRUTO</th>\n",
              "      <th>salario_salario_dolares</th>\n",
              "      <th>experiencia_menor2</th>\n",
              "      <th>Freelance</th>\n",
              "      <th>Full-Time</th>\n",
              "      <th>Part-Time</th>\n",
              "      <th>Remoto (empresa de otro país)</th>\n",
              "      <th>Tercerizado (trabajo a través de consultora o agencia)</th>\n",
              "      <th>perfil_genero_codigo</th>\n",
              "    </tr>\n",
              "  </thead>\n",
              "  <tbody>\n",
              "    <tr>\n",
              "      <th>0</th>\n",
              "      <td>26</td>\n",
              "      <td>Ciudad Autónoma de Buenos Aires</td>\n",
              "      <td>3.0</td>\n",
              "      <td>3.0</td>\n",
              "      <td>3.0</td>\n",
              "      <td>0</td>\n",
              "      <td>4</td>\n",
              "      <td>1</td>\n",
              "      <td>0.0</td>\n",
              "      <td>53000.0</td>\n",
              "      <td>0</td>\n",
              "      <td>0.0</td>\n",
              "      <td>0.0</td>\n",
              "      <td>1.0</td>\n",
              "      <td>0.0</td>\n",
              "      <td>0.0</td>\n",
              "      <td>0.0</td>\n",
              "      <td>1.0</td>\n",
              "    </tr>\n",
              "    <tr>\n",
              "      <th>1</th>\n",
              "      <td>29</td>\n",
              "      <td>Corrientes</td>\n",
              "      <td>5.0</td>\n",
              "      <td>2.0</td>\n",
              "      <td>2.0</td>\n",
              "      <td>4</td>\n",
              "      <td>4</td>\n",
              "      <td>1</td>\n",
              "      <td>0.0</td>\n",
              "      <td>79000.0</td>\n",
              "      <td>0</td>\n",
              "      <td>0.0</td>\n",
              "      <td>0.0</td>\n",
              "      <td>1.0</td>\n",
              "      <td>0.0</td>\n",
              "      <td>0.0</td>\n",
              "      <td>0.0</td>\n",
              "      <td>0.0</td>\n",
              "    </tr>\n",
              "    <tr>\n",
              "      <th>2</th>\n",
              "      <td>22</td>\n",
              "      <td>Ciudad Autónoma de Buenos Aires</td>\n",
              "      <td>2.0</td>\n",
              "      <td>0.0</td>\n",
              "      <td>0.0</td>\n",
              "      <td>0</td>\n",
              "      <td>2</td>\n",
              "      <td>2</td>\n",
              "      <td>0.0</td>\n",
              "      <td>160000.0</td>\n",
              "      <td>0</td>\n",
              "      <td>1.0</td>\n",
              "      <td>0.0</td>\n",
              "      <td>1.0</td>\n",
              "      <td>0.0</td>\n",
              "      <td>0.0</td>\n",
              "      <td>0.0</td>\n",
              "      <td>1.0</td>\n",
              "    </tr>\n",
              "    <tr>\n",
              "      <th>3</th>\n",
              "      <td>39</td>\n",
              "      <td>Corrientes</td>\n",
              "      <td>15.0</td>\n",
              "      <td>15.0</td>\n",
              "      <td>13.0</td>\n",
              "      <td>5</td>\n",
              "      <td>5</td>\n",
              "      <td>0</td>\n",
              "      <td>0.0</td>\n",
              "      <td>130000.0</td>\n",
              "      <td>0</td>\n",
              "      <td>0.0</td>\n",
              "      <td>0.0</td>\n",
              "      <td>1.0</td>\n",
              "      <td>0.0</td>\n",
              "      <td>0.0</td>\n",
              "      <td>0.0</td>\n",
              "      <td>0.0</td>\n",
              "    </tr>\n",
              "    <tr>\n",
              "      <th>4</th>\n",
              "      <td>32</td>\n",
              "      <td>Ciudad Autónoma de Buenos Aires</td>\n",
              "      <td>9.0</td>\n",
              "      <td>6.0</td>\n",
              "      <td>6.0</td>\n",
              "      <td>0</td>\n",
              "      <td>4</td>\n",
              "      <td>1</td>\n",
              "      <td>0.0</td>\n",
              "      <td>140000.0</td>\n",
              "      <td>0</td>\n",
              "      <td>0.0</td>\n",
              "      <td>0.0</td>\n",
              "      <td>1.0</td>\n",
              "      <td>0.0</td>\n",
              "      <td>0.0</td>\n",
              "      <td>0.0</td>\n",
              "      <td>0.0</td>\n",
              "    </tr>\n",
              "  </tbody>\n",
              "</table>\n",
              "</div>\n",
              "      <button class=\"colab-df-convert\" onclick=\"convertToInteractive('df-05615eb2-dfa0-4774-aa8b-3b709c9ebbbd')\"\n",
              "              title=\"Convert this dataframe to an interactive table.\"\n",
              "              style=\"display:none;\">\n",
              "        \n",
              "  <svg xmlns=\"http://www.w3.org/2000/svg\" height=\"24px\"viewBox=\"0 0 24 24\"\n",
              "       width=\"24px\">\n",
              "    <path d=\"M0 0h24v24H0V0z\" fill=\"none\"/>\n",
              "    <path d=\"M18.56 5.44l.94 2.06.94-2.06 2.06-.94-2.06-.94-.94-2.06-.94 2.06-2.06.94zm-11 1L8.5 8.5l.94-2.06 2.06-.94-2.06-.94L8.5 2.5l-.94 2.06-2.06.94zm10 10l.94 2.06.94-2.06 2.06-.94-2.06-.94-.94-2.06-.94 2.06-2.06.94z\"/><path d=\"M17.41 7.96l-1.37-1.37c-.4-.4-.92-.59-1.43-.59-.52 0-1.04.2-1.43.59L10.3 9.45l-7.72 7.72c-.78.78-.78 2.05 0 2.83L4 21.41c.39.39.9.59 1.41.59.51 0 1.02-.2 1.41-.59l7.78-7.78 2.81-2.81c.8-.78.8-2.07 0-2.86zM5.41 20L4 18.59l7.72-7.72 1.47 1.35L5.41 20z\"/>\n",
              "  </svg>\n",
              "      </button>\n",
              "      \n",
              "  <style>\n",
              "    .colab-df-container {\n",
              "      display:flex;\n",
              "      flex-wrap:wrap;\n",
              "      gap: 12px;\n",
              "    }\n",
              "\n",
              "    .colab-df-convert {\n",
              "      background-color: #E8F0FE;\n",
              "      border: none;\n",
              "      border-radius: 50%;\n",
              "      cursor: pointer;\n",
              "      display: none;\n",
              "      fill: #1967D2;\n",
              "      height: 32px;\n",
              "      padding: 0 0 0 0;\n",
              "      width: 32px;\n",
              "    }\n",
              "\n",
              "    .colab-df-convert:hover {\n",
              "      background-color: #E2EBFA;\n",
              "      box-shadow: 0px 1px 2px rgba(60, 64, 67, 0.3), 0px 1px 3px 1px rgba(60, 64, 67, 0.15);\n",
              "      fill: #174EA6;\n",
              "    }\n",
              "\n",
              "    [theme=dark] .colab-df-convert {\n",
              "      background-color: #3B4455;\n",
              "      fill: #D2E3FC;\n",
              "    }\n",
              "\n",
              "    [theme=dark] .colab-df-convert:hover {\n",
              "      background-color: #434B5C;\n",
              "      box-shadow: 0px 1px 3px 1px rgba(0, 0, 0, 0.15);\n",
              "      filter: drop-shadow(0px 1px 2px rgba(0, 0, 0, 0.3));\n",
              "      fill: #FFFFFF;\n",
              "    }\n",
              "  </style>\n",
              "\n",
              "      <script>\n",
              "        const buttonEl =\n",
              "          document.querySelector('#df-05615eb2-dfa0-4774-aa8b-3b709c9ebbbd button.colab-df-convert');\n",
              "        buttonEl.style.display =\n",
              "          google.colab.kernel.accessAllowed ? 'block' : 'none';\n",
              "\n",
              "        async function convertToInteractive(key) {\n",
              "          const element = document.querySelector('#df-05615eb2-dfa0-4774-aa8b-3b709c9ebbbd');\n",
              "          const dataTable =\n",
              "            await google.colab.kernel.invokeFunction('convertToInteractive',\n",
              "                                                     [key], {});\n",
              "          if (!dataTable) return;\n",
              "\n",
              "          const docLinkHtml = 'Like what you see? Visit the ' +\n",
              "            '<a target=\"_blank\" href=https://colab.research.google.com/notebooks/data_table.ipynb>data table notebook</a>'\n",
              "            + ' to learn more about interactive tables.';\n",
              "          element.innerHTML = '';\n",
              "          dataTable['output_type'] = 'display_data';\n",
              "          await google.colab.output.renderOutput(dataTable, element);\n",
              "          const docLink = document.createElement('div');\n",
              "          docLink.innerHTML = docLinkHtml;\n",
              "          element.appendChild(docLink);\n",
              "        }\n",
              "      </script>\n",
              "    </div>\n",
              "  </div>\n",
              "  "
            ],
            "text/plain": [
              "   perfil_edad  ... perfil_genero_codigo\n",
              "0           26  ...                  1.0\n",
              "1           29  ...                  0.0\n",
              "2           22  ...                  1.0\n",
              "3           39  ...                  0.0\n",
              "4           32  ...                  0.0\n",
              "\n",
              "[5 rows x 18 columns]"
            ]
          },
          "metadata": {},
          "execution_count": 39
        }
      ]
    },
    {
      "cell_type": "markdown",
      "source": [
        "También cabe considerar que no todas las columnas deben ser codificadas. Por ejemplo:\n",
        "\n",
        "Esta columna aunque tiene info tal vez relevante agregaría demasiadas dimensiones a nuestro dataset de pocas filas... La relación entre # columnas y # filas es clave\n"
      ],
      "metadata": {
        "id": "fyiJp3wWgG7N"
      }
    },
    {
      "cell_type": "code",
      "source": [
        "df['trabajo_provincia'].unique()"
      ],
      "metadata": {
        "colab": {
          "base_uri": "https://localhost:8080/"
        },
        "id": "XCWEPrJAgPNI",
        "outputId": "9f794771-c0bf-492e-8aaf-9a38c108bd08"
      },
      "execution_count": null,
      "outputs": [
        {
          "output_type": "execute_result",
          "data": {
            "text/plain": [
              "array(['Ciudad Autónoma de Buenos Aires', 'Corrientes',\n",
              "       'Provincia de Buenos Aires', 'Entre Ríos', 'Córdoba', 'Tucumán',\n",
              "       'GBA', 'Santa Fe', 'Neuquén', 'Mendoza', 'Misiones', 'Chaco',\n",
              "       'Chubut', 'Jujuy', 'La Rioja', 'Río Negro', 'Salta',\n",
              "       'Tierra del Fuego', 'San Luis', 'Catamarca', 'San Juan',\n",
              "       'Santiago del Estero', 'La Pampa', 'Formosa', 'Santa Cruz'],\n",
              "      dtype=object)"
            ]
          },
          "metadata": {},
          "execution_count": 40
        }
      ]
    },
    {
      "cell_type": "code",
      "source": [
        "df.drop(['trabajo_provincia'],\n",
        "        axis=1, inplace=True )"
      ],
      "metadata": {
        "id": "VucID4JogQIu"
      },
      "execution_count": null,
      "outputs": []
    },
    {
      "cell_type": "code",
      "source": [
        "df.columns"
      ],
      "metadata": {
        "colab": {
          "base_uri": "https://localhost:8080/"
        },
        "id": "c60wcepPgTsE",
        "outputId": "54824ef1-1d88-48dd-bbf0-f68f7ca4cdbe"
      },
      "execution_count": null,
      "outputs": [
        {
          "output_type": "execute_result",
          "data": {
            "text/plain": [
              "Index(['perfil_edad', 'perfil_anos_experiencia',\n",
              "       'trabajo_anios_empresa_actual', 'trabajo_anios_puesto_actual',\n",
              "       'trabajo_personas_a_cargo', 'perfil_nivel_estudios',\n",
              "       'perfil_estado_estudios', 'salario_guardias_pago',\n",
              "       'salario_mensual_BRUTO', 'salario_salario_dolares',\n",
              "       'experiencia_menor2', 'Freelance', 'Full-Time', 'Part-Time',\n",
              "       'Remoto (empresa de otro país)',\n",
              "       'Tercerizado (trabajo a través de consultora o agencia)',\n",
              "       'perfil_genero_codigo'],\n",
              "      dtype='object')"
            ]
          },
          "metadata": {},
          "execution_count": 42
        }
      ]
    },
    {
      "cell_type": "markdown",
      "metadata": {
        "id": "FNrKqp1LjSXL"
      },
      "source": [
        "### Otras transformaciones"
      ]
    },
    {
      "cell_type": "markdown",
      "metadata": {
        "id": "3Cs62PtNVM-m"
      },
      "source": [
        "Objetivo: Crear nuevas variables adaptadas al negocio concreto y que aporten  valor  para su inclusión en los modelos que desarrollaremos posteriormente. Estas nuevas variables (columnas) surgen de operaciones aplicadas a los datos que ya poseemos."
      ]
    },
    {
      "cell_type": "markdown",
      "metadata": {
        "id": "DkzUvLsYV1KS"
      },
      "source": [
        "\n",
        "- Proporcion de tiempo trabajando en el puesto actual sobre la cantidad de años trabajando en la empresa \n",
        "(trabajo_anios_puesto_actual/trabajo_anios_empresa_actual)\n"
      ]
    },
    {
      "cell_type": "code",
      "source": [
        "df['proporcion_puesto_actual']= df['trabajo_anios_puesto_actual'] / (df['trabajo_anios_empresa_actual'])"
      ],
      "metadata": {
        "id": "Z7U491TrgsXd"
      },
      "execution_count": null,
      "outputs": []
    },
    {
      "cell_type": "markdown",
      "source": [
        "¿Qué pasó con la división por 0?"
      ],
      "metadata": {
        "id": "FSkNv6cJgyTq"
      }
    },
    {
      "cell_type": "code",
      "metadata": {
        "colab": {
          "base_uri": "https://localhost:8080/",
          "height": 339
        },
        "id": "Mx_HrBsaTsAm",
        "outputId": "38490fa5-2ac3-4ed1-da66-a6c64eb9b243"
      },
      "source": [
        "df[df.trabajo_anios_empresa_actual==0].head() #vemos valores nulos para los casos en los que las personas tengan 0 años en la empresa actual"
      ],
      "execution_count": null,
      "outputs": [
        {
          "output_type": "execute_result",
          "data": {
            "text/html": [
              "\n",
              "  <div id=\"df-4669e0cf-8cf2-42f7-a1d3-eb78b576f66e\">\n",
              "    <div class=\"colab-df-container\">\n",
              "      <div>\n",
              "<style scoped>\n",
              "    .dataframe tbody tr th:only-of-type {\n",
              "        vertical-align: middle;\n",
              "    }\n",
              "\n",
              "    .dataframe tbody tr th {\n",
              "        vertical-align: top;\n",
              "    }\n",
              "\n",
              "    .dataframe thead th {\n",
              "        text-align: right;\n",
              "    }\n",
              "</style>\n",
              "<table border=\"1\" class=\"dataframe\">\n",
              "  <thead>\n",
              "    <tr style=\"text-align: right;\">\n",
              "      <th></th>\n",
              "      <th>perfil_edad</th>\n",
              "      <th>perfil_anos_experiencia</th>\n",
              "      <th>trabajo_anios_empresa_actual</th>\n",
              "      <th>trabajo_anios_puesto_actual</th>\n",
              "      <th>trabajo_personas_a_cargo</th>\n",
              "      <th>perfil_nivel_estudios</th>\n",
              "      <th>perfil_estado_estudios</th>\n",
              "      <th>salario_guardias_pago</th>\n",
              "      <th>salario_mensual_BRUTO</th>\n",
              "      <th>salario_salario_dolares</th>\n",
              "      <th>experiencia_menor2</th>\n",
              "      <th>Freelance</th>\n",
              "      <th>Full-Time</th>\n",
              "      <th>Part-Time</th>\n",
              "      <th>Remoto (empresa de otro país)</th>\n",
              "      <th>Tercerizado (trabajo a través de consultora o agencia)</th>\n",
              "      <th>perfil_genero_codigo</th>\n",
              "      <th>proporcion_puesto_actual</th>\n",
              "    </tr>\n",
              "  </thead>\n",
              "  <tbody>\n",
              "    <tr>\n",
              "      <th>2</th>\n",
              "      <td>22</td>\n",
              "      <td>2.0</td>\n",
              "      <td>0.0</td>\n",
              "      <td>0.0</td>\n",
              "      <td>0</td>\n",
              "      <td>2</td>\n",
              "      <td>2</td>\n",
              "      <td>0.0</td>\n",
              "      <td>160000.0</td>\n",
              "      <td>0</td>\n",
              "      <td>1.0</td>\n",
              "      <td>0.0</td>\n",
              "      <td>1.0</td>\n",
              "      <td>0.0</td>\n",
              "      <td>0.0</td>\n",
              "      <td>0.0</td>\n",
              "      <td>1.0</td>\n",
              "      <td>NaN</td>\n",
              "    </tr>\n",
              "    <tr>\n",
              "      <th>5</th>\n",
              "      <td>25</td>\n",
              "      <td>1.0</td>\n",
              "      <td>0.0</td>\n",
              "      <td>0.0</td>\n",
              "      <td>0</td>\n",
              "      <td>3</td>\n",
              "      <td>0</td>\n",
              "      <td>0.0</td>\n",
              "      <td>54000.0</td>\n",
              "      <td>0</td>\n",
              "      <td>1.0</td>\n",
              "      <td>0.0</td>\n",
              "      <td>1.0</td>\n",
              "      <td>0.0</td>\n",
              "      <td>0.0</td>\n",
              "      <td>0.0</td>\n",
              "      <td>0.0</td>\n",
              "      <td>NaN</td>\n",
              "    </tr>\n",
              "    <tr>\n",
              "      <th>7</th>\n",
              "      <td>23</td>\n",
              "      <td>0.0</td>\n",
              "      <td>0.0</td>\n",
              "      <td>0.0</td>\n",
              "      <td>0</td>\n",
              "      <td>3</td>\n",
              "      <td>1</td>\n",
              "      <td>0.0</td>\n",
              "      <td>45000.0</td>\n",
              "      <td>0</td>\n",
              "      <td>1.0</td>\n",
              "      <td>0.0</td>\n",
              "      <td>1.0</td>\n",
              "      <td>0.0</td>\n",
              "      <td>0.0</td>\n",
              "      <td>0.0</td>\n",
              "      <td>0.0</td>\n",
              "      <td>NaN</td>\n",
              "    </tr>\n",
              "    <tr>\n",
              "      <th>10</th>\n",
              "      <td>25</td>\n",
              "      <td>1.0</td>\n",
              "      <td>0.0</td>\n",
              "      <td>0.0</td>\n",
              "      <td>0</td>\n",
              "      <td>3</td>\n",
              "      <td>1</td>\n",
              "      <td>0.0</td>\n",
              "      <td>36800.0</td>\n",
              "      <td>0</td>\n",
              "      <td>1.0</td>\n",
              "      <td>1.0</td>\n",
              "      <td>0.0</td>\n",
              "      <td>0.0</td>\n",
              "      <td>0.0</td>\n",
              "      <td>0.0</td>\n",
              "      <td>0.0</td>\n",
              "      <td>NaN</td>\n",
              "    </tr>\n",
              "    <tr>\n",
              "      <th>14</th>\n",
              "      <td>42</td>\n",
              "      <td>10.0</td>\n",
              "      <td>0.0</td>\n",
              "      <td>0.0</td>\n",
              "      <td>3</td>\n",
              "      <td>4</td>\n",
              "      <td>0</td>\n",
              "      <td>0.0</td>\n",
              "      <td>102000.0</td>\n",
              "      <td>1</td>\n",
              "      <td>0.0</td>\n",
              "      <td>0.0</td>\n",
              "      <td>1.0</td>\n",
              "      <td>0.0</td>\n",
              "      <td>0.0</td>\n",
              "      <td>0.0</td>\n",
              "      <td>0.0</td>\n",
              "      <td>NaN</td>\n",
              "    </tr>\n",
              "  </tbody>\n",
              "</table>\n",
              "</div>\n",
              "      <button class=\"colab-df-convert\" onclick=\"convertToInteractive('df-4669e0cf-8cf2-42f7-a1d3-eb78b576f66e')\"\n",
              "              title=\"Convert this dataframe to an interactive table.\"\n",
              "              style=\"display:none;\">\n",
              "        \n",
              "  <svg xmlns=\"http://www.w3.org/2000/svg\" height=\"24px\"viewBox=\"0 0 24 24\"\n",
              "       width=\"24px\">\n",
              "    <path d=\"M0 0h24v24H0V0z\" fill=\"none\"/>\n",
              "    <path d=\"M18.56 5.44l.94 2.06.94-2.06 2.06-.94-2.06-.94-.94-2.06-.94 2.06-2.06.94zm-11 1L8.5 8.5l.94-2.06 2.06-.94-2.06-.94L8.5 2.5l-.94 2.06-2.06.94zm10 10l.94 2.06.94-2.06 2.06-.94-2.06-.94-.94-2.06-.94 2.06-2.06.94z\"/><path d=\"M17.41 7.96l-1.37-1.37c-.4-.4-.92-.59-1.43-.59-.52 0-1.04.2-1.43.59L10.3 9.45l-7.72 7.72c-.78.78-.78 2.05 0 2.83L4 21.41c.39.39.9.59 1.41.59.51 0 1.02-.2 1.41-.59l7.78-7.78 2.81-2.81c.8-.78.8-2.07 0-2.86zM5.41 20L4 18.59l7.72-7.72 1.47 1.35L5.41 20z\"/>\n",
              "  </svg>\n",
              "      </button>\n",
              "      \n",
              "  <style>\n",
              "    .colab-df-container {\n",
              "      display:flex;\n",
              "      flex-wrap:wrap;\n",
              "      gap: 12px;\n",
              "    }\n",
              "\n",
              "    .colab-df-convert {\n",
              "      background-color: #E8F0FE;\n",
              "      border: none;\n",
              "      border-radius: 50%;\n",
              "      cursor: pointer;\n",
              "      display: none;\n",
              "      fill: #1967D2;\n",
              "      height: 32px;\n",
              "      padding: 0 0 0 0;\n",
              "      width: 32px;\n",
              "    }\n",
              "\n",
              "    .colab-df-convert:hover {\n",
              "      background-color: #E2EBFA;\n",
              "      box-shadow: 0px 1px 2px rgba(60, 64, 67, 0.3), 0px 1px 3px 1px rgba(60, 64, 67, 0.15);\n",
              "      fill: #174EA6;\n",
              "    }\n",
              "\n",
              "    [theme=dark] .colab-df-convert {\n",
              "      background-color: #3B4455;\n",
              "      fill: #D2E3FC;\n",
              "    }\n",
              "\n",
              "    [theme=dark] .colab-df-convert:hover {\n",
              "      background-color: #434B5C;\n",
              "      box-shadow: 0px 1px 3px 1px rgba(0, 0, 0, 0.15);\n",
              "      filter: drop-shadow(0px 1px 2px rgba(0, 0, 0, 0.3));\n",
              "      fill: #FFFFFF;\n",
              "    }\n",
              "  </style>\n",
              "\n",
              "      <script>\n",
              "        const buttonEl =\n",
              "          document.querySelector('#df-4669e0cf-8cf2-42f7-a1d3-eb78b576f66e button.colab-df-convert');\n",
              "        buttonEl.style.display =\n",
              "          google.colab.kernel.accessAllowed ? 'block' : 'none';\n",
              "\n",
              "        async function convertToInteractive(key) {\n",
              "          const element = document.querySelector('#df-4669e0cf-8cf2-42f7-a1d3-eb78b576f66e');\n",
              "          const dataTable =\n",
              "            await google.colab.kernel.invokeFunction('convertToInteractive',\n",
              "                                                     [key], {});\n",
              "          if (!dataTable) return;\n",
              "\n",
              "          const docLinkHtml = 'Like what you see? Visit the ' +\n",
              "            '<a target=\"_blank\" href=https://colab.research.google.com/notebooks/data_table.ipynb>data table notebook</a>'\n",
              "            + ' to learn more about interactive tables.';\n",
              "          element.innerHTML = '';\n",
              "          dataTable['output_type'] = 'display_data';\n",
              "          await google.colab.output.renderOutput(dataTable, element);\n",
              "          const docLink = document.createElement('div');\n",
              "          docLink.innerHTML = docLinkHtml;\n",
              "          element.appendChild(docLink);\n",
              "        }\n",
              "      </script>\n",
              "    </div>\n",
              "  </div>\n",
              "  "
            ],
            "text/plain": [
              "    perfil_edad  ...  proporcion_puesto_actual\n",
              "2            22  ...                       NaN\n",
              "5            25  ...                       NaN\n",
              "7            23  ...                       NaN\n",
              "10           25  ...                       NaN\n",
              "14           42  ...                       NaN\n",
              "\n",
              "[5 rows x 18 columns]"
            ]
          },
          "metadata": {},
          "execution_count": 44
        }
      ]
    },
    {
      "cell_type": "markdown",
      "source": [
        "Para evitar dicho error, podemos filtrar nuestro dataset antes de hacer el cálculo\n"
      ],
      "metadata": {
        "id": "3KKxjKdhhUWe"
      }
    },
    {
      "cell_type": "code",
      "source": [
        "df.loc[df['trabajo_anios_empresa_actual']>0, 'proporcion_puesto_actual']=  df['trabajo_anios_puesto_actual'] / (df['trabajo_anios_empresa_actual'])\n",
        "df.loc[df['trabajo_anios_empresa_actual']==0, 'proporcion_puesto_actual']= 1"
      ],
      "metadata": {
        "id": "9LS-I0N0hVeo"
      },
      "execution_count": null,
      "outputs": []
    },
    {
      "cell_type": "code",
      "source": [
        "df['proporcion_puesto_actual'].hist(bins=10);"
      ],
      "metadata": {
        "colab": {
          "base_uri": "https://localhost:8080/",
          "height": 267
        },
        "id": "QUsT8Yq_hX2A",
        "outputId": "f4b9f7c6-5c03-4ae6-bbe0-a45dc1933fcd"
      },
      "execution_count": null,
      "outputs": [
        {
          "output_type": "display_data",
          "data": {
            "image/png": "[encoded data removed]",
            "text/plain": [
              "<Figure size 432x288 with 1 Axes>"
            ]
          },
          "metadata": {
            "needs_background": "light"
          }
        }
      ]
    },
    {
      "cell_type": "markdown",
      "metadata": {
        "id": "0dQM6BfoV5sX"
      },
      "source": [
        "\n",
        "- Porcentaje de precio de guardias sobre el salario bruto"
      ]
    },
    {
      "cell_type": "code",
      "source": [
        "df['proporcion_precio_guardia']= df['salario_guardias_pago'] / (df['salario_mensual_BRUTO'])"
      ],
      "metadata": {
        "id": "hgCEuF1phac2"
      },
      "execution_count": null,
      "outputs": []
    },
    {
      "cell_type": "code",
      "source": [
        "df['proporcion_precio_guardia'].describe()"
      ],
      "metadata": {
        "colab": {
          "base_uri": "https://localhost:8080/"
        },
        "id": "kC54Lrk9iNoO",
        "outputId": "af45248a-b1f1-4e98-b324-4cb65d35f308"
      },
      "execution_count": null,
      "outputs": [
        {
          "output_type": "execute_result",
          "data": {
            "text/plain": [
              "count    6095.000000\n",
              "mean        0.018440\n",
              "std         0.634327\n",
              "min         0.000000\n",
              "25%         0.000000\n",
              "50%         0.000000\n",
              "75%         0.000000\n",
              "max        44.444444\n",
              "Name: proporcion_precio_guardia, dtype: float64"
            ]
          },
          "metadata": {},
          "execution_count": 48
        }
      ]
    },
    {
      "cell_type": "markdown",
      "metadata": {
        "id": "Z1LVTnmLFq7x"
      },
      "source": [
        "## Variables contra el target"
      ]
    },
    {
      "cell_type": "markdown",
      "metadata": {
        "id": "YaPmigbbUh2x"
      },
      "source": [
        "Un paso clave en todo proyecto de aprendizaje supervisado, es no solo la visualización en el framework del EDA si no también para ver la relación de nuestras variables contra nuestro TARGET.\n",
        "De nuevo: sin patrones el modelo no va a tener que aprender. "
      ]
    },
    {
      "cell_type": "code",
      "source": [
        "df.columns\n"
      ],
      "metadata": {
        "colab": {
          "base_uri": "https://localhost:8080/"
        },
        "id": "-Jk5cTbiigBP",
        "outputId": "5648edf1-fdb3-4b22-91bf-77ab793beb85"
      },
      "execution_count": null,
      "outputs": [
        {
          "output_type": "execute_result",
          "data": {
            "text/plain": [
              "Index(['perfil_edad', 'perfil_anos_experiencia',\n",
              "       'trabajo_anios_empresa_actual', 'trabajo_anios_puesto_actual',\n",
              "       'trabajo_personas_a_cargo', 'perfil_nivel_estudios',\n",
              "       'perfil_estado_estudios', 'salario_guardias_pago',\n",
              "       'salario_mensual_BRUTO', 'salario_salario_dolares',\n",
              "       'experiencia_menor2', 'Freelance', 'Full-Time', 'Part-Time',\n",
              "       'Remoto (empresa de otro país)',\n",
              "       'Tercerizado (trabajo a través de consultora o agencia)',\n",
              "       'perfil_genero_codigo', 'proporcion_puesto_actual',\n",
              "       'proporcion_precio_guardia'],\n",
              "      dtype='object')"
            ]
          },
          "metadata": {},
          "execution_count": 49
        }
      ]
    },
    {
      "cell_type": "code",
      "source": [
        "sns.pairplot(df[['perfil_edad', 'trabajo_anios_empresa_actual', 'trabajo_anios_puesto_actual',\n",
        "       #'trabajo_personas_a_cargo', 'salario_guardias_pago', \n",
        "       'salario_mensual_BRUTO', #'salario_mensual_NETO',\n",
        "       'experiencia_menor2']],\n",
        "      hue = 'experiencia_menor2')  \n",
        "#pairplot es un grafico con sintaxis simples, llamamos las variables que nos interesan analizar y nuestro target\n",
        "#pone todas las variables en el eje de las x y despues en el eje de las y va graficando los pares.\n",
        "      #hue subdivide nuestra variable por nuestro target"
      ],
      "metadata": {
        "colab": {
          "base_uri": "https://localhost:8080/"
        },
        "id": "levB4EeBihnQ",
        "outputId": "74ebc7d9-63f5-47ed-a17c-7f6b46bbd985"
      },
      "execution_count": null,
      "outputs": [
        {
          "output_type": "execute_result",
          "data": {
            "text/plain": [
              "<seaborn.axisgrid.PairGrid at 0x7f285307a650>"
            ]
          },
          "metadata": {},
          "execution_count": 50
        },
        {
          "output_type": "display_data",
          "data": {
            "image/png": "[encoded data removed]",
            "text/plain": [
              "<Figure size 829.875x720 with 20 Axes>"
            ]
          },
          "metadata": {
            "needs_background": "light"
          }
        }
      ]
    },
    {
      "cell_type": "code",
      "source": [
        "sns.pairplot(df[['perfil_edad', #'trabajo_anios_empresa_actual', #'trabajo_anios_puesto_actual',\n",
        "       'trabajo_personas_a_cargo', 'salario_guardias_pago', \n",
        "       #'salario_mensual_BRUTO', 'salario_mensual_NETO',\n",
        "       'experiencia_menor2']],\n",
        "      hue = 'experiencia_menor2')  "
      ],
      "metadata": {
        "colab": {
          "base_uri": "https://localhost:8080/"
        },
        "id": "9Q7UhMc-jYEc",
        "outputId": "e508c8ad-a7c5-4e91-9823-d86aba8000ce"
      },
      "execution_count": null,
      "outputs": [
        {
          "output_type": "execute_result",
          "data": {
            "text/plain": [
              "<seaborn.axisgrid.PairGrid at 0x7f28519bbbd0>"
            ]
          },
          "metadata": {},
          "execution_count": 51
        },
        {
          "output_type": "display_data",
          "data": {
            "image/png": "[encoded data removed]",
            "text/plain": [
              "<Figure size 649.875x540 with 12 Axes>"
            ]
          },
          "metadata": {
            "needs_background": "light"
          }
        }
      ]
    },
    {
      "cell_type": "markdown",
      "metadata": {
        "id": "cg8zecbVFxX-"
      },
      "source": [
        "## Modelo de clasificación\n",
        "\n",
        "\n",
        "*En los problemas de clasificación, la variable que queremos predecir es una clase discreta.*\n",
        "No reciben variables categoricas. Siempre que sean binarios es mejor"
      ]
    },
    {
      "cell_type": "code",
      "metadata": {
        "colab": {
          "base_uri": "https://localhost:8080/"
        },
        "id": "2ANccTo7VCk5",
        "outputId": "699edf47-cecb-4f62-bb65-c4d86b53da9e"
      },
      "source": [
        "df.isna().sum() #isna nos muestra si es true o false (que no tenga nulos)"
      ],
      "execution_count": null,
      "outputs": [
        {
          "output_type": "execute_result",
          "data": {
            "text/plain": [
              "perfil_edad                                               0\n",
              "perfil_anos_experiencia                                   0\n",
              "trabajo_anios_empresa_actual                              0\n",
              "trabajo_anios_puesto_actual                               0\n",
              "trabajo_personas_a_cargo                                  0\n",
              "perfil_nivel_estudios                                     0\n",
              "perfil_estado_estudios                                    0\n",
              "salario_guardias_pago                                     0\n",
              "salario_mensual_BRUTO                                     0\n",
              "salario_salario_dolares                                   0\n",
              "experiencia_menor2                                        0\n",
              "Freelance                                                 0\n",
              "Full-Time                                                 0\n",
              "Part-Time                                                 0\n",
              "Remoto (empresa de otro país)                             0\n",
              "Tercerizado (trabajo a través de consultora o agencia)    0\n",
              "perfil_genero_codigo                                      0\n",
              "proporcion_puesto_actual                                  0\n",
              "proporcion_precio_guardia                                 0\n",
              "dtype: int64"
            ]
          },
          "metadata": {},
          "execution_count": 52
        }
      ]
    },
    {
      "cell_type": "code",
      "source": [
        "df.shape"
      ],
      "metadata": {
        "colab": {
          "base_uri": "https://localhost:8080/"
        },
        "id": "tFIPeoNHk7Tu",
        "outputId": "9554d7c4-7f04-4317-8440-90e5b3b408cd"
      },
      "execution_count": null,
      "outputs": [
        {
          "output_type": "execute_result",
          "data": {
            "text/plain": [
              "(6095, 19)"
            ]
          },
          "metadata": {},
          "execution_count": 53
        }
      ]
    },
    {
      "cell_type": "code",
      "source": [
        "df.dtypes"
      ],
      "metadata": {
        "colab": {
          "base_uri": "https://localhost:8080/"
        },
        "id": "sQugZCcck8j2",
        "outputId": "f904fcf5-1af3-4153-b50b-e7974af6fcad"
      },
      "execution_count": null,
      "outputs": [
        {
          "output_type": "execute_result",
          "data": {
            "text/plain": [
              "perfil_edad                                                 int64\n",
              "perfil_anos_experiencia                                   float64\n",
              "trabajo_anios_empresa_actual                              float64\n",
              "trabajo_anios_puesto_actual                               float64\n",
              "trabajo_personas_a_cargo                                    int64\n",
              "perfil_nivel_estudios                                       int64\n",
              "perfil_estado_estudios                                      int64\n",
              "salario_guardias_pago                                     float64\n",
              "salario_mensual_BRUTO                                     float64\n",
              "salario_salario_dolares                                     int64\n",
              "experiencia_menor2                                        float64\n",
              "Freelance                                                 float64\n",
              "Full-Time                                                 float64\n",
              "Part-Time                                                 float64\n",
              "Remoto (empresa de otro país)                             float64\n",
              "Tercerizado (trabajo a través de consultora o agencia)    float64\n",
              "perfil_genero_codigo                                      float64\n",
              "proporcion_puesto_actual                                  float64\n",
              "proporcion_precio_guardia                                 float64\n",
              "dtype: object"
            ]
          },
          "metadata": {},
          "execution_count": 54
        }
      ]
    },
    {
      "cell_type": "markdown",
      "metadata": {
        "id": "uZUU0AaNIsBv"
      },
      "source": [
        "1.  Definir las variables de entradas para el modelo y La columna target.\n",
        "Dividir el data set entre x e y. Y es la variable a predecir  y x es una matriz,  son todas las variables que van a ayudar a predecir la Y. \n",
        "X siempre se usa en mayúscula porque es una matriz e y se usa en minúscula porque es un vector (una sola columna)\n"
      ]
    },
    {
      "cell_type": "code",
      "source": [
        "X = df.drop(['perfil_anos_experiencia', 'experiencia_menor2'],axis=1)  #eliminas esas columnas para que el modelo pueda predecir\n",
        "y = df['experiencia_menor2']  #Y es el target"
      ],
      "metadata": {
        "id": "ERHDm7JklaV2"
      },
      "execution_count": null,
      "outputs": []
    },
    {
      "cell_type": "markdown",
      "metadata": {
        "id": "F2APnY6OJ9ob"
      },
      "source": [
        "2. Dividir en set de entrenamiento y set de prueba\n",
        "\n",
        "Divido el data set en dos, una parte para entrenar el modelo (para que encuentre las relaciones entre las variables que tenemos y la que queremos predecir) y otro para testear el modelo (se pasa otro data set sin mi target, para que veamos si funciona y arroja el resultado correcto).\n",
        "Si da mal, tiene que volver a entrenar con otras variables y volver a testear."
      ]
    },
    {
      "cell_type": "markdown",
      "metadata": {
        "id": "VUqOuPBoNEMi"
      },
      "source": [
        "<center>\n",
        "<img src=\"https://www.dataquest.io/wp-content/uploads/kaggle_overview.svg\" height=\"400\" />"
      ]
    },
    {
      "cell_type": "markdown",
      "metadata": {
        "id": "Kz_cpB-pMXfZ"
      },
      "source": [
        "<center>\n",
        "<img src=\"https://www.dataquest.io/wp-content/uploads/kaggle_train_test_split.svg\" height=\"300\" />\n"
      ]
    },
    {
      "cell_type": "code",
      "source": [
        "from sklearn.model_selection import train_test_split  #para dividir el data set, usamos la funcion train_test_split de la librería sklearn\n",
        "\n",
        "X_train, X_test, y_train, y_test = train_test_split(X, y, test_size=0.20, random_state=311) \n",
        "#test_size que tamaño quiero que tenga para testear.\n",
        "#random_state es para seleccionar aleatoriamente las filas a testear\n",
        "#se usa 70% para entrenar y 30% para testear generalmente)"
      ],
      "metadata": {
        "id": "H8VIRuzfmkSy"
      },
      "execution_count": null,
      "outputs": []
    },
    {
      "cell_type": "code",
      "source": [
        "print('Dimensiones del set de entrenamiento', X_train.shape)\n",
        "print('Dimensiones del set de testing', X_test.shape)"
      ],
      "metadata": {
        "colab": {
          "base_uri": "https://localhost:8080/"
        },
        "id": "QzgvBU3DmqUq",
        "outputId": "1f0b9b99-9ec7-4430-f171-05d1e490cc47"
      },
      "execution_count": null,
      "outputs": [
        {
          "output_type": "stream",
          "name": "stdout",
          "text": [
            "Dimensiones del set de entrenamiento (4876, 17)\n",
            "Dimensiones del set de testing (1219, 17)\n"
          ]
        }
      ]
    },
    {
      "cell_type": "markdown",
      "metadata": {
        "id": "XPrPfsDWKGUH"
      },
      "source": [
        "3. Crear un objeto que tenga el tipo de modelo que queremos entrenar\n",
        "\n",
        "\n",
        "\n",
        " https://scikit-learn.org/stable/auto_examples/tree/plot_unveil_tree_structure.html#sphx-glr-auto-examples-tree-plot-unveil-tree-structure-py"
      ]
    },
    {
      "cell_type": "code",
      "metadata": {
        "id": "OTuJNvJhNdg3"
      },
      "source": [
        "from sklearn import tree #importamos el arbol de la libreria sklearn\n",
        "clf = tree.DecisionTreeClassifier(max_leaf_nodes=10, random_state=0) #modelo de arbol de decision"
      ],
      "execution_count": null,
      "outputs": []
    },
    {
      "cell_type": "markdown",
      "metadata": {
        "id": "k5aDbbNhKLL8"
      },
      "source": [
        "4. Entrenar el modelo"
      ]
    },
    {
      "cell_type": "code",
      "source": [
        "clf"
      ],
      "metadata": {
        "colab": {
          "base_uri": "https://localhost:8080/"
        },
        "id": "IrGPFe1DnMMN",
        "outputId": "1ed37e0b-6844-4645-f17f-938c20f47dac"
      },
      "execution_count": null,
      "outputs": [
        {
          "output_type": "execute_result",
          "data": {
            "text/plain": [
              "DecisionTreeClassifier(max_leaf_nodes=10, random_state=0)"
            ]
          },
          "metadata": {},
          "execution_count": 59
        }
      ]
    },
    {
      "cell_type": "code",
      "metadata": {
        "id": "A8TXewNPJ1Pu"
      },
      "source": [
        "clf = clf.fit(X_train, y_train) #.fit para entrenar el modelo, lo entreno con mi Xtrain y mi ytraine. \n",
        "#Encontra los patrones que diferencia a las personas con mas y menos de 2 años de experiencia"
      ],
      "execution_count": null,
      "outputs": []
    },
    {
      "cell_type": "markdown",
      "metadata": {
        "id": "reZNihRFKSB1"
      },
      "source": [
        "5. Predecir"
      ]
    },
    {
      "cell_type": "code",
      "metadata": {
        "id": "zWC8h8EvKopv"
      },
      "source": [
        "pred_y = clf.predict(X_test)  #.predict le paso todo sin el target, para que el modelo haga la prediccion"
      ],
      "execution_count": null,
      "outputs": []
    },
    {
      "cell_type": "code",
      "metadata": {
        "colab": {
          "base_uri": "https://localhost:8080/"
        },
        "id": "sltHu8NujEuL",
        "outputId": "6d5f7194-b5b7-4fd6-ec39-b605839f702d"
      },
      "source": [
        "pred_y #la primera persona tiene menos de 2 años, la segunda tmb, la tercera tiene mas. y asi"
      ],
      "execution_count": null,
      "outputs": [
        {
          "output_type": "execute_result",
          "data": {
            "text/plain": [
              "array([0., 0., 1., ..., 0., 1., 0.])"
            ]
          },
          "metadata": {},
          "execution_count": 62
        }
      ]
    },
    {
      "cell_type": "code",
      "metadata": {
        "colab": {
          "base_uri": "https://localhost:8080/"
        },
        "id": "XqaOJhFpMFb6",
        "outputId": "9a0157dd-5899-44e2-84dd-5c845d69f4c7"
      },
      "source": [
        "print('Real      : ', y_test[:5].values) #esto es valuacion de modelo, para ver si el modelo aprendio bien o tengo que reentrenarlo\n",
        "print('Prediccion: ', pred_y[:5])"
      ],
      "execution_count": null,
      "outputs": [
        {
          "output_type": "stream",
          "name": "stdout",
          "text": [
            "Real      :  [0. 0. 1. 0. 0.]\n",
            "Prediccion:  [0. 0. 1. 0. 0.]\n"
          ]
        }
      ]
    },
    {
      "cell_type": "code",
      "source": [
        "plt.figure(figsize=(10,10))\n",
        "tree.plot_tree(clf) #clf es mi algoritmo, le pido que lo grafique\n",
        "plt.show()"
      ],
      "metadata": {
        "colab": {
          "base_uri": "https://localhost:8080/",
          "height": 575
        },
        "id": "wSfihNK5njLj",
        "outputId": "98a69b49-701f-4998-9ea4-f1d0ed79640f"
      },
      "execution_count": null,
      "outputs": [
        {
          "output_type": "display_data",
          "data": {
            "image/png": "[encoded data removed]",
            "text/plain": [
              "<Figure size 720x720 with 1 Axes>"
            ]
          },
          "metadata": {
            "needs_background": "light"
          }
        }
      ]
    },
    {
      "cell_type": "markdown",
      "source": [
        "# **Modelo de Regresion**\n",
        "\n",
        "En los problemas de regresión, la variable que queremos predecir (target) es un número continuo. Vamos a tratar de predecir cúantos años tiene de experiencia"
      ],
      "metadata": {
        "id": "eMRLPehcStHf"
      }
    },
    {
      "cell_type": "markdown",
      "metadata": {
        "id": "xllBCMj4I6zC"
      },
      "source": [
        "1. Definir entradas para el modelo y la columna target"
      ]
    },
    {
      "cell_type": "code",
      "source": [
        "y = df['perfil_anos_experiencia']\n",
        "X = df.drop(['perfil_anos_experiencia','experiencia_menor2'], axis=1)"
      ],
      "metadata": {
        "id": "YjJlKHT5S6Lu"
      },
      "execution_count": null,
      "outputs": []
    },
    {
      "cell_type": "markdown",
      "metadata": {
        "id": "66AVU_e-Im03"
      },
      "source": [
        "2. Dividir en set de entrenamiento y set de prueba"
      ]
    },
    {
      "cell_type": "code",
      "metadata": {
        "id": "c3bMUExhufaD"
      },
      "source": [
        "from sklearn.model_selection import train_test_split\n",
        "\n",
        "X_train, X_test, y_train, y_test = train_test_split(X, y, test_size=0.20, random_state=311)"
      ],
      "execution_count": null,
      "outputs": []
    },
    {
      "cell_type": "code",
      "metadata": {
        "colab": {
          "base_uri": "https://localhost:8080/"
        },
        "id": "hg2b9j4BzXwy",
        "outputId": "98a46998-f101-4f91-dea2-b583a150e182"
      },
      "source": [
        "print('Dimensiones del set de entrenamiento', X_train.shape)\n",
        "print('Dimensiones del set de testing', X_test.shape)"
      ],
      "execution_count": null,
      "outputs": [
        {
          "output_type": "stream",
          "name": "stdout",
          "text": [
            "Dimensiones del set de entrenamiento (4876, 17)\n",
            "Dimensiones del set de testing (1219, 17)\n"
          ]
        }
      ]
    },
    {
      "cell_type": "markdown",
      "metadata": {
        "id": "m2HQdgfZJPZk"
      },
      "source": [
        "3. Crear un objeto que tenga el tipo de modelo que queremos entrenar"
      ]
    },
    {
      "cell_type": "code",
      "metadata": {
        "id": "bPltMaKG0gyP"
      },
      "source": [
        "from sklearn.linear_model import LinearRegression\n",
        "regressor = LinearRegression()"
      ],
      "execution_count": null,
      "outputs": []
    },
    {
      "cell_type": "markdown",
      "metadata": {
        "id": "1tesHSB8JXFL"
      },
      "source": [
        "4. Entrenar el modelo"
      ]
    },
    {
      "cell_type": "code",
      "metadata": {
        "colab": {
          "base_uri": "https://localhost:8080/"
        },
        "id": "Kl__c8TKJSiT",
        "outputId": "4ec145f3-1997-4cb1-9737-0bffecd86d66"
      },
      "source": [
        "regressor.fit(X_train, y_train)"
      ],
      "execution_count": null,
      "outputs": [
        {
          "output_type": "execute_result",
          "data": {
            "text/plain": [
              "LinearRegression()"
            ]
          },
          "metadata": {},
          "execution_count": 69
        }
      ]
    },
    {
      "cell_type": "markdown",
      "metadata": {
        "id": "AdDBwzS6JmX8"
      },
      "source": [
        "5. Predecir"
      ]
    },
    {
      "cell_type": "code",
      "metadata": {
        "id": "8fI2ah_Q0sEX"
      },
      "source": [
        "y_pred= regressor.predict(X_test)"
      ],
      "execution_count": null,
      "outputs": []
    },
    {
      "cell_type": "code",
      "metadata": {
        "colab": {
          "base_uri": "https://localhost:8080/"
        },
        "id": "iurzG2kQgEEA",
        "outputId": "fc89903a-bc1a-464e-e514-314ed19682f5"
      },
      "source": [
        "print('Real      : ', y_test[:5].values)\n",
        "print('Prediccion: ', y_pred[:5])"
      ],
      "execution_count": null,
      "outputs": [
        {
          "output_type": "stream",
          "name": "stdout",
          "text": [
            "Real      :  [ 6. 10.  1. 19.  5.]\n",
            "Prediccion:  [ 6.55623781  9.60359908  1.99498855 18.89350238  9.2019207 ]\n"
          ]
        }
      ]
    },
    {
      "cell_type": "code",
      "metadata": {
        "colab": {
          "base_uri": "https://localhost:8080/",
          "height": 265
        },
        "id": "cnFiSDNCHS7A",
        "outputId": "afe916e4-c0bd-4fdd-ac31-d556124a7fb5"
      },
      "source": [
        "plt.scatter(x=y_pred, \n",
        "           y=y_test);"
      ],
      "execution_count": null,
      "outputs": [
        {
          "output_type": "display_data",
          "data": {
            "image/png": "[encoded data removed]",
            "text/plain": [
              "<Figure size 432x288 with 1 Axes>"
            ]
          },
          "metadata": {
            "needs_background": "light"
          }
        }
      ]
    }
  ]
}